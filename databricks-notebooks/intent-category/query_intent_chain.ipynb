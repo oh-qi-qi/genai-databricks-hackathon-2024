{
 "cells": [
  {
   "cell_type": "code",
   "execution_count": 0,
   "metadata": {
    "application/vnd.databricks.v1+cell": {
     "cellMetadata": {
      "byteLimit": 2048000,
      "rowLimit": 10000
     },
     "inputWidgets": {},
     "nuid": "dadbf5a7-9696-49d2-968d-1f862e95e395",
     "showTitle": false,
     "title": ""
    }
   },
   "outputs": [
    {
     "output_type": "stream",
     "name": "stdout",
     "output_type": "stream",
     "text": [
      "3.10.12 (main, Jul 29 2024, 16:56:48) [GCC 11.4.0]\n"
     ]
    }
   ],
   "source": [
    "import sys\n",
    "print(sys.version)"
   ]
  },
  {
   "cell_type": "markdown",
   "metadata": {
    "application/vnd.databricks.v1+cell": {
     "cellMetadata": {},
     "inputWidgets": {},
     "nuid": "6a40fd50-9425-4e34-b1e3-9ce68b5b36bd",
     "showTitle": false,
     "title": ""
    }
   },
   "source": [
    "#### Dependency and Installation"
   ]
  },
  {
   "cell_type": "code",
   "execution_count": 0,
   "metadata": {
    "application/vnd.databricks.v1+cell": {
     "cellMetadata": {
      "byteLimit": 2048000,
      "rowLimit": 10000
     },
     "inputWidgets": {},
     "nuid": "10695073-cbb0-4bd4-934a-d1d354446af1",
     "showTitle": false,
     "title": ""
    }
   },
   "outputs": [
    {
     "output_type": "stream",
     "name": "stdout",
     "output_type": "stream",
     "text": [
      "Catalog Name: llm_workspace\nSchema Name: default\nWorking Directory: /Workspace/Shared/genai-databricks-hackathon-2024/databricks-notebooks/intent-category\nGeneral Volume Name: /Volumes/llm_workspace/default/regubim-ai-general-volume/\ninstall_env.sh\nroom-relationship-visualisation-min.html\nroom-route-visualisation-min.html\nRegulation Volume Name: /Volumes/llm_workspace/default/regubim-ai-regulation-data-volume/\nRoom Design Requirements for Engineering Disciplines.pdf\nSCDF Chapter 8 - Emergency Lighting & Voice Communication Systems.pdf\nBIM Volume Name: /Volumes/llm_workspace/default/regubim-ai-bim-data-volume/\nsample_revit_project_room_data.json\n"
     ]
    }
   ],
   "source": [
    "%run ../common/installation_setup"
   ]
  },
  {
   "cell_type": "markdown",
   "metadata": {
    "application/vnd.databricks.v1+cell": {
     "cellMetadata": {},
     "inputWidgets": {},
     "nuid": "e82273be-1b16-44a9-8d6a-84fc2c204efc",
     "showTitle": false,
     "title": ""
    }
   },
   "source": [
    "#### Query Intent Chain"
   ]
  },
  {
   "cell_type": "code",
   "execution_count": 0,
   "metadata": {
    "application/vnd.databricks.v1+cell": {
     "cellMetadata": {
      "byteLimit": 2048000,
      "rowLimit": 10000
     },
     "inputWidgets": {},
     "nuid": "c4fd896f-3622-4b63-be5a-b099ad132d3a",
     "showTitle": false,
     "title": ""
    }
   },
   "outputs": [],
   "source": [
    "import mlflow\n",
    "from mlflow.models import infer_signature\n",
    "from langchain.prompts import PromptTemplate\n",
    "from langchain.chains import LLMChain\n",
    "from langchain_community.chat_models import ChatDatabricks\n",
    "from langchain_core.runnables import RunnableParallel, RunnableLambda\n",
    "from langchain.schema.runnable import RunnableMap, RunnableBranch, RunnablePassthrough\n",
    "from langchain_core.output_parsers import StrOutputParser\n",
    "\n",
    "import langchain\n",
    "import pandas as pd\n",
    "\n",
    "# Initialize the LLM\n",
    "query_intent_category_model = ChatDatabricks(endpoint=\"databricks-meta-llama-3-1-70b-instruct\", max_tokens=500)\n",
    "\n",
    "def create_chain_query_classification(llm_model):\n",
    "    # Query intent categories\n",
    "    query_intent_categories = [\n",
    "        \"Building Codes and Regulations\",\n",
    "        \"BIM Revit Data\",\n",
    "        \"Compliance Check\",\n",
    "        \"Other\"\n",
    "    ]\n",
    "\n",
    "    # Intent query template\n",
    "    query_intent_category_template = \"\"\"\n",
    "    You are an AI assistant tasked with categorizing user queries related to building codes, regulations, architectural data, and BIM (Building Information Modeling) elements from Revit. \n",
    "    Given the following categories:\n",
    "\n",
    "    {categories}\n",
    "\n",
    "    Classify the following query into one of these categories. If the query doesn't fit any category, classify it as \"Other\".\n",
    "    Use the following guidelines:\n",
    "\n",
    "    1. \"Building Codes and Regulations\": Queries about specific building codes, regulations, standards, room types (e.g., ELV rooms), disciplines (e.g., ELV, Electrical, Mechanical), or regulatory requirements. This includes questions about which rooms belong to or are managed by specific disciplines.\n",
    "\n",
    "    2. \"BIM Revit Data\": Queries about physical characteristics of the building such as room id, sizes, locations, boundaries, room relationships, adjacencies, or counts of generic room types. This includes any spatial or structural data typically found in a Revit model. It does not include any information about the discipline that owns or manages which room, nor any regulatory or standard-based information.\n",
    "\n",
    "    3. \"Compliance Check\": Queries that explicitly ask about how or whether the room complies with regulations or standards.\n",
    "\n",
    "    4. \"Other\": Queries that don't fit into the above categories.\n",
    "\n",
    "    Respond with only the category name, nothing else.\n",
    "\n",
    "    User Query: {query}\n",
    "\n",
    "    Category:\"\"\"\n",
    "\n",
    "    query_intent_category_prompt = PromptTemplate(\n",
    "        input_variables=[\"categories\", \"query\"],\n",
    "        template=query_intent_category_template\n",
    "    )\n",
    "\n",
    "    # Create the classification chain\n",
    "    inner_chain = (\n",
    "        RunnablePassthrough.assign(categories=lambda _: \"\\n\".join(query_intent_categories))\n",
    "        | query_intent_category_prompt\n",
    "        | llm_model\n",
    "        | StrOutputParser()\n",
    "    )\n",
    "\n",
    "    # Wrapper function to include input and output\n",
    "    def chain_with_io(inputs):\n",
    "        result = inner_chain.invoke(inputs)\n",
    "        return {\n",
    "            'input': inputs['query'],\n",
    "            'output': result\n",
    "        }\n",
    "\n",
    "    # Convert the wrapper function to a RunnableLambda\n",
    "    return RunnableLambda(chain_with_io)\n",
    "\n",
    "# Example input for signature inference (as pandas DataFrame)\n",
    "chain_query_classification = create_chain_query_classification(query_intent_category_model)\n",
    "intent_result = chain_query_classification.invoke({\"query\": \"What are the building codes for ELV rooms?\"})"
   ]
  },
  {
   "cell_type": "code",
   "execution_count": 0,
   "metadata": {
    "application/vnd.databricks.v1+cell": {
     "cellMetadata": {
      "byteLimit": 2048000,
      "rowLimit": 10000
     },
     "inputWidgets": {},
     "nuid": "640b9141-1b4a-4815-b52c-929abf803895",
     "showTitle": false,
     "title": ""
    }
   },
   "outputs": [
    {
     "output_type": "display_data",
     "data": {
      "text/html": [
       "<pre style=\"white-space:pre;overflow-x:auto;line-height:normal;font-family:Menlo,'DejaVu Sans Mono',consolas,'Courier New',monospace\">╭───────────────────────────────────────────────────── input ─────────────────────────────────────────────────────╮\n",
       "│ What are the building codes for ELV rooms?                                                                      │\n",
       "╰─────────────────────────────────────────────────────────────────────────────────────────────────────────────────╯\n",
       "</pre>\n"
      ],
      "text/plain": [
       "╭───────────────────────────────────────────────────── input ─────────────────────────────────────────────────────╮\n",
       "│ What are the building codes for ELV rooms?                                                                      │\n",
       "╰─────────────────────────────────────────────────────────────────────────────────────────────────────────────────╯\n"
      ]
     },
     "metadata": {},
     "output_type": "display_data"
    },
    {
     "output_type": "display_data",
     "data": {
      "text/html": [
       "<pre style=\"white-space:pre;overflow-x:auto;line-height:normal;font-family:Menlo,'DejaVu Sans Mono',consolas,'Courier New',monospace\">╭──────────────────────────────────────────────────── output ─────────────────────────────────────────────────────╮\n",
       "│ Building Codes and Regulations                                                                                  │\n",
       "╰─────────────────────────────────────────────────────────────────────────────────────────────────────────────────╯\n",
       "</pre>\n"
      ],
      "text/plain": [
       "╭──────────────────────────────────────────────────── output ─────────────────────────────────────────────────────╮\n",
       "│ Building Codes and Regulations                                                                                  │\n",
       "╰─────────────────────────────────────────────────────────────────────────────────────────────────────────────────╯\n"
      ]
     },
     "metadata": {},
     "output_type": "display_data"
    }
   ],
   "source": [
    "print_nested_dict_display(intent_result)"
   ]
  }
 ],
 "metadata": {
  "application/vnd.databricks.v1+notebook": {
   "dashboards": [],
   "environmentMetadata": {
    "base_environment": "/Workspace/Shared/genai-databricks-hackathon-2024/databricks-notebooks/databricks_base_environment.yml",
    "client": "1"
   },
   "language": "python",
   "notebookMetadata": {
    "pythonIndentUnit": 4
   },
   "notebookName": "query_intent_chain",
   "widgets": {}
  }
 },
 "nbformat": 4,
 "nbformat_minor": 0
}
