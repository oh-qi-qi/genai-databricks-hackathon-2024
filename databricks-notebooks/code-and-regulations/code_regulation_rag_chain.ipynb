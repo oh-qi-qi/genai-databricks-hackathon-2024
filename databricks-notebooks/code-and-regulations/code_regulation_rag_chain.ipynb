{
 "cells": [
  {
   "cell_type": "markdown",
   "metadata": {
    "application/vnd.databricks.v1+cell": {
     "cellMetadata": {},
     "inputWidgets": {},
     "nuid": "8f0e5859-ede3-4126-ae63-d8dea9b1a589",
     "showTitle": false,
     "title": ""
    }
   },
   "source": [
    "#### Dependency and Installation"
   ]
  },
  {
   "cell_type": "code",
   "execution_count": 0,
   "metadata": {
    "application/vnd.databricks.v1+cell": {
     "cellMetadata": {
      "byteLimit": 2048000,
      "rowLimit": 10000
     },
     "inputWidgets": {},
     "nuid": "3d8fdeb6-0458-412a-bc6b-5f478204773e",
     "showTitle": false,
     "title": ""
    }
   },
   "outputs": [
    {
     "output_type": "stream",
     "name": "stdout",
     "output_type": "stream",
     "text": [
      "Catalog Name: llm_workspace\nSchema Name: default\nWorking Directory: /Workspace/Shared/genai-databricks-hackathon-2024/databricks-notebooks/code-and-regulations\nGeneral Volume Name: /Volumes/llm_workspace/default/regubim-ai-general-volume/\ninstall_env.sh\nroom-relationship-visualisation-min.html\nroom-route-visualisation-min.html\nRegulation Volume Name: /Volumes/llm_workspace/default/regubim-ai-regulation-data-volume/\nRoom Design Requirements for Engineering Disciplines.pdf\nSCDF Chapter 8 - Emergency Lighting & Voice Communication Systems.pdf\nBIM Volume Name: /Volumes/llm_workspace/default/regubim-ai-bim-data-volume/\n"
     ]
    }
   ],
   "source": [
    "%run ../common/installation_setup"
   ]
  },
  {
   "cell_type": "markdown",
   "metadata": {
    "application/vnd.databricks.v1+cell": {
     "cellMetadata": {},
     "inputWidgets": {},
     "nuid": "8cdc303c-2c3f-4247-9524-c94c79a07046",
     "showTitle": false,
     "title": ""
    }
   },
   "source": [
    "#### Setup Code and Regulation Rag Chain \n",
    "- Retriever\n",
    "- Prompt Template\n",
    "- LLM Chain"
   ]
  },
  {
   "cell_type": "code",
   "execution_count": 0,
   "metadata": {
    "application/vnd.databricks.v1+cell": {
     "cellMetadata": {
      "byteLimit": 2048000,
      "rowLimit": 10000
     },
     "inputWidgets": {},
     "nuid": "4cd630bf-a9c4-448a-9ecd-e1921df5bd20",
     "showTitle": false,
     "title": ""
    }
   },
   "outputs": [
    {
     "output_type": "stream",
     "name": "stdout",
     "output_type": "stream",
     "text": [
      "2.16.2\nName: hugging_face_sentence_transformer_model\n - Version: 1, Stage: None\n"
     ]
    }
   ],
   "source": [
    "# Check the registered models\n",
    "import mlflow\n",
    "\n",
    "print(mlflow.__version__)\n",
    "\n",
    "from mlflow.tracking import MlflowClient\n",
    "\n",
    "# Initialize the MLflow client\n",
    "client = MlflowClient()\n",
    "\n",
    "# Search for all registered models\n",
    "registered_models = client.search_registered_models()\n",
    "embedding_model = \"\"\n",
    "embedding_model_name = \"\"\n",
    "embedding_model_full_name = \"\"\n",
    "embedding_model_version = 1\n",
    "\n",
    "# Print details of each registered model\n",
    "for model in registered_models:\n",
    "    if (f\"{catalog_name}.{schema_name}\") in model.name:\n",
    "\n",
    "        embedding_model_full_name = model.name\n",
    "        embedding_model_name = model.name.replace(f\"{catalog_name}.{schema_name}.\", \"\")\n",
    "        print(f\"Name: {embedding_model_name}\")\n",
    "\n",
    "        embedding_model = client.get_registered_model(name=model.name)\n",
    "        versions = client.search_model_versions(filter_string=f\"name='{model.name}'\")\n",
    "\n",
    "        for version in versions:\n",
    "            print(f\" - Version: {version.version}, Stage: {version.current_stage}\")\n",
    "        \n",
    "        # Get the latest version    \n",
    "        embedding_model_version= versions[-1].version\n",
    "\n",
    "run_id = client.get_model_version(name=embedding_model_full_name, version=embedding_model_version).run_id"
   ]
  },
  {
   "cell_type": "code",
   "execution_count": 0,
   "metadata": {
    "application/vnd.databricks.v1+cell": {
     "cellMetadata": {
      "byteLimit": 2048000,
      "rowLimit": 10000
     },
     "inputWidgets": {},
     "nuid": "32b3950b-e70d-49d6-b63d-9bebbe747df6",
     "showTitle": false,
     "title": ""
    }
   },
   "outputs": [],
   "source": [
    "from databricks.vector_search.client import VectorSearchClient\n",
    "from langchain.embeddings import DatabricksEmbeddings\n",
    "from langchain_core.runnables import RunnableLambda\n",
    "from langchain.docstore.document import Document\n",
    "from flashrank import Ranker, RerankRequest\n",
    "\n",
    "from langchain.chains import LLMChain, StuffDocumentsChain\n",
    "from langchain_core.prompts import ChatPromptTemplate, PromptTemplate\n",
    "from langchain_core.runnables import RunnableLambda\n",
    "\n",
    "import mlflow.pyfunc\n",
    "import pandas as pd\n",
    "\n",
    "def create_code_regulation_rag_chain(llm_model):\n",
    "    vs_endpoint_name = f\"vs_endpoint_{catalog_name}\"\n",
    "    vs_index_fullname = f\"{catalog_name}.{schema_name}.code_regulations_engineering_self_managed_vs_index\"\n",
    "    \n",
    "    def retrieve(inputs):\n",
    "        query = inputs\n",
    "        vsc = VectorSearchClient(disable_notice=True)\n",
    "        vs_index = vsc.get_index(endpoint_name=vs_endpoint_name, index_name=vs_index_fullname)\n",
    "        loaded_embedding_model = mlflow.pyfunc.load_model(f\"runs:/{run_id}/{embedding_model_name}\")\n",
    "        query_embeddings = loaded_embedding_model.predict(pd.DataFrame({\"text\": [query]}))\n",
    "        query_vector = query_embeddings.iloc[0].tolist()\n",
    "        retrieved = vs_index.similarity_search(\n",
    "            query_vector=query_vector,\n",
    "            columns=[\"id\", \"document_name\", \"section\", \"content\", \"url\"],\n",
    "            num_results=10)\n",
    "        return {'query': query, 'retrieved': retrieved}\n",
    "\n",
    "    def rerank(inputs, ranker_model=\"ms-marco-MiniLM-L-12-v2\", k=10):\n",
    "        query = inputs['query']\n",
    "        retrieved = inputs['retrieved']\n",
    "        passages = [\n",
    "            {\n",
    "                \"score\": doc[-1], \n",
    "                \"id\": doc[0], \n",
    "                \"file\": doc[1], \n",
    "                \"section\": doc[2], \n",
    "                \"chunk\": doc[3],\n",
    "                \"url\": doc[4]\n",
    "            } for doc in retrieved.get(\"result\", {}).get(\"data_array\", [])\n",
    "        ]\n",
    "        ranker = Ranker(model_name=ranker_model)\n",
    "        rerankrequest = RerankRequest(query=query, passages=[\n",
    "            {\n",
    "                'id': passage['id'],\n",
    "                'text': passage['chunk'],\n",
    "                \"meta\": {\n",
    "                    \"section\": passage['section'],\n",
    "                    \"document_name\": passage['file'],\n",
    "                    \"url\": passage['url']\n",
    "                }\n",
    "            } for passage in passages\n",
    "        ])\n",
    "        results = ranker.rerank(rerankrequest)[:k]\n",
    "        reranked_docs = [Document(\n",
    "            page_content=r.get(\"text\"),\n",
    "            metadata={\n",
    "                \"rank_score\": r.get(\"score\"), \n",
    "                \"vector_id\": r.get(\"id\"),\n",
    "                \"section\": r.get(\"meta\").get(\"section\"),\n",
    "                \"document_name\": r.get(\"meta\").get(\"document_name\"),\n",
    "                \"url\": r.get(\"meta\").get(\"url\")\n",
    "            }\n",
    "        ) for r in results]\n",
    "        return {'query': query, 'retrieved_docs': reranked_docs}\n",
    "\n",
    "    def process_retrieved_docs(inputs):\n",
    "        query = inputs['query']\n",
    "        docs = inputs['retrieved_docs']\n",
    "        grouped_documents = {}\n",
    "        metadata_section = []\n",
    "        \n",
    "        for doc in docs:\n",
    "            key = f\"{doc.metadata.get('document_name')} - {doc.metadata.get('section')}\"\n",
    "            if key not in grouped_documents:\n",
    "                grouped_documents[key] = []\n",
    "            grouped_documents[key].append(doc.page_content)\n",
    "            \n",
    "            if key not in metadata_section:\n",
    "                metadata_info = f\"Section: {key}\"\n",
    "                url = doc.metadata.get('url')\n",
    "                if url:\n",
    "                    metadata_info += f\", URL: {url}\"\n",
    "                metadata_section.append(metadata_info)\n",
    "\n",
    "        final_context = \"\\n\\n\".join(\"\\n\".join(pages) for pages in grouped_documents.values())\n",
    "        final_metadata_section = \", \".join(metadata_section)\n",
    "\n",
    "        return {\n",
    "            \"context\": final_context,\n",
    "            \"metadata_section\": final_metadata_section,\n",
    "            \"input\": query,\n",
    "            \"input_documents\": docs\n",
    "        }\n",
    "\n",
    "    def format_output(inputs):\n",
    "        output_text = inputs.get('output_text', '')\n",
    "        input_documents = inputs.get('input_documents', [])\n",
    "        \n",
    "        references_dict = {}\n",
    "        \n",
    "        for doc in input_documents:\n",
    "            doc_name = doc.metadata.get('document_name', 'Unknown Document')\n",
    "            full_section = doc.metadata.get('section', 'Unknown Section')\n",
    "            url = doc.metadata.get('url', '')\n",
    "            \n",
    "            parts = full_section.split(',', 1)\n",
    "            main_section = parts[0].strip()\n",
    "            subsection = parts[1].strip() if len(parts) > 1 else ''\n",
    "            \n",
    "            if doc_name not in references_dict:\n",
    "                references_dict[doc_name] = {'url': url, 'main_section': main_section, 'subsections': set()}\n",
    "            \n",
    "            if subsection:\n",
    "                references_dict[doc_name]['subsections'].add(subsection)\n",
    "        \n",
    "        references = []\n",
    "        for doc_name, info in references_dict.items():\n",
    "            url = info['url']\n",
    "            main_section = info['main_section']\n",
    "            subsections = ', '.join(sorted(info['subsections']))\n",
    "            \n",
    "            if subsections:\n",
    "                section_text = f\"{main_section}, {subsections}\"\n",
    "            else:\n",
    "                section_text = main_section\n",
    "            \n",
    "            if url:\n",
    "                reference = f\"* [{doc_name}]({url}), Section: {section_text}\"\n",
    "            else:\n",
    "                reference = f\"* {doc_name}, Section: {section_text}\"\n",
    "            \n",
    "            references.append(reference)\n",
    "        \n",
    "        if references:\n",
    "            references_text = \"\\n\".join(sorted(references))\n",
    "            output_text += f\"\\n\\nTo ensure compliance, please refer to the following documents:\\n\\n{references_text}\"\n",
    "        \n",
    "        return {'input': inputs.get('input'), 'output': output_text}\n",
    "    \n",
    "    # Define the main prompt template\n",
    "    code_regulation_prompt_template = \"\"\"\n",
    "    You are an assistant specializing in building codes, safety regulations, and design standards for various room types in buildings. Your task is to extract and provide relevant information about codes, regulations, and standards for the room type mentioned in the question.\n",
    "\n",
    "    Use the following pieces of context and metadata:\n",
    "\n",
    "    <context>\n",
    "    {context}\n",
    "    </context>\n",
    "\n",
    "    <metadata>\n",
    "    Section: {metadata_section}\n",
    "    </metadata>\n",
    "\n",
    "    Follow these steps:\n",
    "    1. Identify the room type mentioned in the question.\n",
    "    2. Extract and list all relevant codes, regulations, standards, and requirements for the identified room type. Include specific measurements, materials, equipment, location, and any other pertinent details if available.\n",
    "    3. Organize the information clearly, grouping related requirements together.\n",
    "    4. If specific information for the mentioned room type is not available, provide general building codes or regulations that might be applicable.\n",
    "\n",
    "    Provide only factual information from the given context. Do not make assumptions or assessments about compliance. If certain information is not available, clearly state this.\n",
    "\n",
    "    Question: {input}\n",
    "\n",
    "    Answer:\n",
    "    \"\"\"\n",
    "\n",
    "    # Create the main prompt\n",
    "    code_regulation_prompt = ChatPromptTemplate.from_template(code_regulation_prompt_template)\n",
    "\n",
    "    # Create the document prompt\n",
    "    code_regulation_prompt_document_prompt = PromptTemplate(\n",
    "        input_variables=[\"page_content\"],\n",
    "        template=\"{page_content}\"\n",
    "    )\n",
    "\n",
    "    # Create the LLM chain\n",
    "    llm_chain = LLMChain(llm=llm_model, prompt=code_regulation_prompt)\n",
    "\n",
    "    # Create the StuffDocumentsChain\n",
    "    stuff_chain = StuffDocumentsChain(\n",
    "        llm_chain=llm_chain,\n",
    "        document_prompt=code_regulation_prompt_document_prompt,\n",
    "        document_variable_name=\"context\"\n",
    "    )\n",
    "\n",
    "    # Combine the chains\n",
    "    retriever_chain = RunnableLambda(retrieve) | RunnableLambda(rerank)\n",
    "    final_chain = retriever_chain | RunnableLambda(process_retrieved_docs) | stuff_chain | RunnableLambda(format_output)\n",
    "\n",
    "    return final_chain"
   ]
  },
  {
   "cell_type": "code",
   "execution_count": 0,
   "metadata": {
    "application/vnd.databricks.v1+cell": {
     "cellMetadata": {
      "byteLimit": 2048000,
      "rowLimit": 10000
     },
     "inputWidgets": {},
     "nuid": "99bb37dc-75e4-42ab-ad2e-332ebd4671da",
     "showTitle": false,
     "title": ""
    }
   },
   "outputs": [],
   "source": [
    "from langchain_community.chat_models import ChatDatabricks\n",
    "\n",
    "llm_model = ChatDatabricks(endpoint=\"databricks-meta-llama-3-1-70b-instruct\", max_tokens=3000, temperature=0.0)\n",
    "code_regulation_rag_chain = create_code_regulation_rag_chain(llm_model)"
   ]
  },
  {
   "cell_type": "markdown",
   "metadata": {
    "application/vnd.databricks.v1+cell": {
     "cellMetadata": {},
     "inputWidgets": {},
     "nuid": "4da6028f-4549-4640-8ef4-b76456a72bc2",
     "showTitle": false,
     "title": ""
    }
   },
   "source": [
    "### Test the code and regulation rag chain"
   ]
  },
  {
   "cell_type": "code",
   "execution_count": 0,
   "metadata": {
    "application/vnd.databricks.v1+cell": {
     "cellMetadata": {
      "byteLimit": 2048000,
      "rowLimit": 10000
     },
     "inputWidgets": {},
     "nuid": "bee14e25-f8a4-4566-83b9-251a83bd5897",
     "showTitle": false,
     "title": ""
    }
   },
   "outputs": [
    {
     "output_type": "display_data",
     "data": {
      "application/vnd.jupyter.widget-view+json": {
       "model_id": "1aeed3c02c8247e793e3da78dd2ed902",
       "version_major": 2,
       "version_minor": 0
      },
      "text/plain": [
       "Downloading artifacts:   0%|          | 0/11 [00:00<?, ?it/s]"
      ]
     },
     "metadata": {},
     "output_type": "display_data"
    },
    {
     "output_type": "stream",
     "name": "stderr",
     "output_type": "stream",
     "text": [
      "INFO:sentence_transformers.SentenceTransformer:Use pytorch device_name: cpu\nINFO:sentence_transformers.SentenceTransformer:Load pretrained SentenceTransformer: sentence-transformers/all-MiniLM-L6-v2\nINFO:py4j.clientserver:Closing down clientserver connection\nINFO:py4j.clientserver:Closing down clientserver connection\nINFO:py4j.clientserver:Closing down clientserver connection\nINFO:py4j.clientserver:Closing down clientserver connection\nINFO:py4j.clientserver:Closing down clientserver connection\nINFO:py4j.clientserver:Closing down clientserver connection\nINFO:py4j.clientserver:Closing down clientserver connection\nINFO:py4j.clientserver:Closing down clientserver connection\nINFO:py4j.clientserver:Closing down clientserver connection\nINFO:py4j.clientserver:Closing down clientserver connection\nINFO:py4j.clientserver:Closing down clientserver connection\nINFO:py4j.clientserver:Closing down clientserver connection\n"
     ]
    }
   ],
   "source": [
    "# Example question to pass to your process_question function\n",
    "code_regulation_question_1 = {\"query\": \"What are the regulations for fire exits?\"}\n",
    "\n",
    "# Call the function to get the answer\n",
    "code_regulation_answer_1 = code_regulation_rag_chain.invoke(code_regulation_question_1[\"query\"])"
   ]
  },
  {
   "cell_type": "code",
   "execution_count": 0,
   "metadata": {
    "application/vnd.databricks.v1+cell": {
     "cellMetadata": {
      "byteLimit": 2048000,
      "rowLimit": 10000
     },
     "inputWidgets": {},
     "nuid": "59d213f2-973f-41d7-b3ec-0bcb1a487a53",
     "showTitle": false,
     "title": ""
    }
   },
   "outputs": [
    {
     "output_type": "stream",
     "name": "stderr",
     "output_type": "stream",
     "text": [
      "INFO:py4j.clientserver:Received command c on object id p0\n"
     ]
    },
    {
     "output_type": "display_data",
     "data": {
      "text/html": [
       "<pre style=\"white-space:pre;overflow-x:auto;line-height:normal;font-family:Menlo,'DejaVu Sans Mono',consolas,'Courier New',monospace\">╭───────────────────────────────────────────────────── Input ─────────────────────────────────────────────────────╮\n",
       "│ <span style=\"font-weight: bold\">Input:</span>                                                                                                          │\n",
       "│                                                                                                                 │\n",
       "│ What are the regulations for fire exits?                                                                        │\n",
       "╰─────────────────────────────────────────────────────────────────────────────────────────────────────────────────╯\n",
       "</pre>\n"
      ],
      "text/plain": [
       "╭───────────────────────────────────────────────────── Input ─────────────────────────────────────────────────────╮\n",
       "│ \u001B[1mInput:\u001B[0m                                                                                                          │\n",
       "│                                                                                                                 │\n",
       "│ What are the regulations for fire exits?                                                                        │\n",
       "╰─────────────────────────────────────────────────────────────────────────────────────────────────────────────────╯\n"
      ]
     },
     "metadata": {},
     "output_type": "display_data"
    },
    {
     "output_type": "display_data",
     "data": {
      "text/html": [
       "<pre style=\"white-space:pre;overflow-x:auto;line-height:normal;font-family:Menlo,'DejaVu Sans Mono',consolas,'Courier New',monospace\">╭──────────────────────────────────────────────────── Output ─────────────────────────────────────────────────────╮\n",
       "│ <span style=\"font-weight: bold\">Output:</span>                                                                                                         │\n",
       "│                                                                                                                 │\n",
       "│ Based on the provided context, the regulations for fire exits are as follows:                                   │\n",
       "│                                                                                                                 │\n",
       "│ <span style=\"font-weight: bold\">Exit Lighting</span>                                                                                                   │\n",
       "│                                                                                                                 │\n",
       "│ <span style=\"color: #808000; text-decoration-color: #808000; font-weight: bold\"> • </span>Exits of all buildings, except for PG I, shall be provided with artificial lighting facilities to the        │\n",
       "│ <span style=\"color: #808000; text-decoration-color: #808000; font-weight: bold\">   </span>satisfaction of the requirements under this Code. (8.1 EXIT LIGHTING AND EXIT SIGN, 8.1.1 Exit lighting)     │\n",
       "│ <span style=\"color: #808000; text-decoration-color: #808000; font-weight: bold\"> • </span>The minimum illuminance to be provided for all exits and the spacing for luminaires shall be in accordance   │\n",
       "│ <span style=\"color: #808000; text-decoration-color: #808000; font-weight: bold\">   </span>with the requirements in SS 563. (8.1 EXIT LIGHTING AND EXIT SIGN, 8.1.1 Exit lighting)                      │\n",
       "│ <span style=\"color: #808000; text-decoration-color: #808000; font-weight: bold\"> • </span>The delay between the failure of the electrical supply to normal lighting and the energisation of the exit   │\n",
       "│ <span style=\"color: #808000; text-decoration-color: #808000; font-weight: bold\">   </span>lighting shall not exceed 1 sec. (8.1 EXIT LIGHTING AND EXIT SIGN, 8.1.1 Exit lighting)                      │\n",
       "│                                                                                                                 │\n",
       "│ <span style=\"font-weight: bold\">Exit Signs</span>                                                                                                      │\n",
       "│                                                                                                                 │\n",
       "│ <span style=\"color: #808000; text-decoration-color: #808000; font-weight: bold\"> • </span>The entrance to every exit on every floor shall be clearly indicated by an exit sign placed over the exit    │\n",
       "│ <span style=\"color: #808000; text-decoration-color: #808000; font-weight: bold\">   </span>door. Such signs shall be placed so as to be clearly visible at all times. (8.1 EXIT LIGHTING AND EXIT SIGN, │\n",
       "│ <span style=\"color: #808000; text-decoration-color: #808000; font-weight: bold\">   </span>8.1.7 Exit and exit directional signs)                                                                       │\n",
       "│ <span style=\"color: #808000; text-decoration-color: #808000; font-weight: bold\"> • </span>Exit sign shall be provided over all the exit access doors for rooms with more than one door. (8.1 EXIT      │\n",
       "│ <span style=\"color: #808000; text-decoration-color: #808000; font-weight: bold\">   </span>LIGHTING AND EXIT SIGN, 8.1.7 Exit and exit directional signs)                                               │\n",
       "│ <span style=\"color: #808000; text-decoration-color: #808000; font-weight: bold\"> • </span>Exit sign shall be provided over final discharge door within exit enclosure such as exit staircase and       │\n",
       "│ <span style=\"color: #808000; text-decoration-color: #808000; font-weight: bold\">   </span>internal exit passageway having other exit/ exit access door opening into the exit enclosure at the          │\n",
       "│ <span style=\"color: #808000; text-decoration-color: #808000; font-weight: bold\">   </span>discharge floor. (8.1 EXIT LIGHTING AND EXIT SIGN, 8.1.7 Exit and exit directional signs)                    │\n",
       "│                                                                                                                 │\n",
       "│ <span style=\"font-weight: bold\">Exemptions</span>                                                                                                      │\n",
       "│                                                                                                                 │\n",
       "│ <span style=\"color: #808000; text-decoration-color: #808000; font-weight: bold\"> • </span>Exit sign is not required under the following situations:                                                    │\n",
       "│ <span style=\"color: #808000; text-decoration-color: #808000; font-weight: bold\">    • </span>PG I and II buildings                                                                                     │\n",
       "│ <span style=\"color: #808000; text-decoration-color: #808000; font-weight: bold\">    • </span>Room provided with emergency lighting When a room is provided with only one door                          │\n",
       "│ <span style=\"color: #808000; text-decoration-color: #808000; font-weight: bold\">    • </span>Room without emergency lighting (i) When a room is provided with only one door and the direct distance    │\n",
       "│ <span style=\"color: #808000; text-decoration-color: #808000; font-weight: bold\">      </span>from the furthest distance in the room to the exit access door is 7m or less; or (ii) When the furthest   │\n",
       "│ <span style=\"color: #808000; text-decoration-color: #808000; font-weight: bold\">      </span>point in the room to the exit access door is 13m or less and wall of the room comprises not less than 50% │\n",
       "│ <span style=\"color: #808000; text-decoration-color: #808000; font-weight: bold\">      </span>clear glazing facing: an internal corridor covered by emergency lighting, an external corridor, or the    │\n",
       "│ <span style=\"color: #808000; text-decoration-color: #808000; font-weight: bold\">      </span>external of the building.                                                                                 │\n",
       "│ <span style=\"color: #808000; text-decoration-color: #808000; font-weight: bold\">    • </span>Open-sided single storey building, with floor area not exceeding 200m2 and openings that constitute at    │\n",
       "│ <span style=\"color: #808000; text-decoration-color: #808000; font-weight: bold\">      </span>least 80% of the perimeter wall area (measured along the roof eaves).                                     │\n",
       "│ <span style=\"color: #808000; text-decoration-color: #808000; font-weight: bold\">    • </span>When a room or internal space is fully open towards an external corridor or the external of a building.   │\n",
       "│ <span style=\"color: #808000; text-decoration-color: #808000; font-weight: bold\">    • </span>Exit enclosure such as exit staircase and internal exit passageway not provided with final discharge      │\n",
       "│ <span style=\"color: #808000; text-decoration-color: #808000; font-weight: bold\">      </span>door. (8.1 EXIT LIGHTING AND EXIT SIGN, 8.1.7 Exit and exit directional signs)                            │\n",
       "│                                                                                                                 │\n",
       "│ <span style=\"font-weight: bold\">Photoluminescent Marking</span>                                                                                        │\n",
       "│                                                                                                                 │\n",
       "│ <span style=\"color: #808000; text-decoration-color: #808000; font-weight: bold\"> • </span>In all buildings, except PG I &amp; II, photoluminescent marking/ tape to guide occupants along evacuation       │\n",
       "│ <span style=\"color: #808000; text-decoration-color: #808000; font-weight: bold\">   </span>routes to appropriate exit shall be provided:                                                                │\n",
       "│ <span style=\"color: #808000; text-decoration-color: #808000; font-weight: bold\">    • </span>Along internal walls and/ or floors of the exit staircase, smoke-free lobby and fire lift lobby;          │\n",
       "│ <span style=\"color: #808000; text-decoration-color: #808000; font-weight: bold\">    • </span>On the doors of smoke-free lobby, fire lift lobby and exit staircase;                                     │\n",
       "│ <span style=\"color: #808000; text-decoration-color: #808000; font-weight: bold\">    • </span>Along corridor with exit directional signs. (8.1 EXIT LIGHTING AND EXIT SIGN, 8.1.8 Photoluminescent      │\n",
       "│ <span style=\"color: #808000; text-decoration-color: #808000; font-weight: bold\">      </span>marking)                                                                                                  │\n",
       "│ <span style=\"color: #808000; text-decoration-color: #808000; font-weight: bold\"> • </span>The width of photoluminescent marking or tape shall be at least 50mm and be placed at low level. The bottom  │\n",
       "│ <span style=\"color: #808000; text-decoration-color: #808000; font-weight: bold\">   </span>of the low level sign shall not be less than 150mm or more than 400mm above the floor level. (8.1 EXIT       │\n",
       "│ <span style=\"color: #808000; text-decoration-color: #808000; font-weight: bold\">   </span>LIGHTING AND EXIT SIGN, 8.1.8 Photoluminescent marking)                                                      │\n",
       "│                                                                                                                 │\n",
       "│ <span style=\"font-weight: bold\">Emergency Lighting for Corridors and Lobbies</span>                                                                    │\n",
       "│                                                                                                                 │\n",
       "│ <span style=\"color: #808000; text-decoration-color: #808000; font-weight: bold\"> • </span>Emergency lighting shall be provided in all corridors and lobbies of all buildings except PG I. (8.1 EXIT    │\n",
       "│ <span style=\"color: #808000; text-decoration-color: #808000; font-weight: bold\">   </span>LIGHTING AND EXIT SIGN, 8.1.2 Emergency lighting for corridors and lobbies)                                  │\n",
       "│ <span style=\"color: #808000; text-decoration-color: #808000; font-weight: bold\"> • </span>The minimum level of illuminance, the spacing of luminaires and the maximum delay for emergency lighting     │\n",
       "│ <span style=\"color: #808000; text-decoration-color: #808000; font-weight: bold\">   </span>required in this clause shall be the same as that for the exit lighting. (8.1 EXIT LIGHTING AND EXIT SIGN,   │\n",
       "│ <span style=\"color: #808000; text-decoration-color: #808000; font-weight: bold\">   </span>8.1.2 Emergency lighting for corridors and lobbies)                                                          │\n",
       "│                                                                                                                 │\n",
       "│ To ensure compliance, please refer to the following documents:                                                  │\n",
       "│                                                                                                                 │\n",
       "│ <span style=\"color: #808000; text-decoration-color: #808000; font-weight: bold\"> • </span>Room Design Requirements for Engineering Disciplines.pdf, Section: 2.1  Fire Command Centre (FCC), 2.1.1     │\n",
       "│ <span style=\"color: #808000; text-decoration-color: #808000; font-weight: bold\">   </span>FCC Room Provision, 2.1.2  FCC Room Location, 2.1.6  FCC Room Mechanical Ventilation, 2.1.7  FCC Room Exit   │\n",
       "│ <span style=\"color: #808000; text-decoration-color: #808000; font-weight: bold\">   </span>Sign                                                                                                         │\n",
       "│ <span style=\"color: #808000; text-decoration-color: #808000; font-weight: bold\"> • </span><a href=\"https://www.scdf.gov.sg/firecode/table-of-content/chapter-8-emergency-lighting-voice-communicarion-systems/clause-8.1\" target=\"_blank\"><span style=\"color: #000080; text-decoration-color: #000080; text-decoration: underline\">SCDF Chapter 8 - Emergency Lighting &amp; Voice Communication Systems.pdf</span></a>, Section: 8.1 EXIT LIGHTING AND EXIT   │\n",
       "│ <span style=\"color: #808000; text-decoration-color: #808000; font-weight: bold\">   </span>SIGN, 8.1.1 Exit lighting, 8.1.2 Emergency lighting for corridors and lobbies, 8.1.3 Emergency lighting for  │\n",
       "│ <span style=\"color: #808000; text-decoration-color: #808000; font-weight: bold\">   </span>occupied areas, 8.1.4 Emergency lighting for firefighting facilities, 8.1.7 Exit and exit directional signs, │\n",
       "│ <span style=\"color: #808000; text-decoration-color: #808000; font-weight: bold\">   </span>8.1.8 Photoluminescent marking                                                                               │\n",
       "╰─────────────────────────────────────────────────────────────────────────────────────────────────────────────────╯\n",
       "</pre>\n"
      ],
      "text/plain": [
       "╭──────────────────────────────────────────────────── Output ─────────────────────────────────────────────────────╮\n",
       "│ \u001B[1mOutput:\u001B[0m                                                                                                         │\n",
       "│                                                                                                                 │\n",
       "│ Based on the provided context, the regulations for fire exits are as follows:                                   │\n",
       "│                                                                                                                 │\n",
       "│ \u001B[1mExit Lighting\u001B[0m                                                                                                   │\n",
       "│                                                                                                                 │\n",
       "│ \u001B[1;33m • \u001B[0mExits of all buildings, except for PG I, shall be provided with artificial lighting facilities to the        │\n",
       "│ \u001B[1;33m   \u001B[0msatisfaction of the requirements under this Code. (8.1 EXIT LIGHTING AND EXIT SIGN, 8.1.1 Exit lighting)     │\n",
       "│ \u001B[1;33m • \u001B[0mThe minimum illuminance to be provided for all exits and the spacing for luminaires shall be in accordance   │\n",
       "│ \u001B[1;33m   \u001B[0mwith the requirements in SS 563. (8.1 EXIT LIGHTING AND EXIT SIGN, 8.1.1 Exit lighting)                      │\n",
       "│ \u001B[1;33m • \u001B[0mThe delay between the failure of the electrical supply to normal lighting and the energisation of the exit   │\n",
       "│ \u001B[1;33m   \u001B[0mlighting shall not exceed 1 sec. (8.1 EXIT LIGHTING AND EXIT SIGN, 8.1.1 Exit lighting)                      │\n",
       "│                                                                                                                 │\n",
       "│ \u001B[1mExit Signs\u001B[0m                                                                                                      │\n",
       "│                                                                                                                 │\n",
       "│ \u001B[1;33m • \u001B[0mThe entrance to every exit on every floor shall be clearly indicated by an exit sign placed over the exit    │\n",
       "│ \u001B[1;33m   \u001B[0mdoor. Such signs shall be placed so as to be clearly visible at all times. (8.1 EXIT LIGHTING AND EXIT SIGN, │\n",
       "│ \u001B[1;33m   \u001B[0m8.1.7 Exit and exit directional signs)                                                                       │\n",
       "│ \u001B[1;33m • \u001B[0mExit sign shall be provided over all the exit access doors for rooms with more than one door. (8.1 EXIT      │\n",
       "│ \u001B[1;33m   \u001B[0mLIGHTING AND EXIT SIGN, 8.1.7 Exit and exit directional signs)                                               │\n",
       "│ \u001B[1;33m • \u001B[0mExit sign shall be provided over final discharge door within exit enclosure such as exit staircase and       │\n",
       "│ \u001B[1;33m   \u001B[0minternal exit passageway having other exit/ exit access door opening into the exit enclosure at the          │\n",
       "│ \u001B[1;33m   \u001B[0mdischarge floor. (8.1 EXIT LIGHTING AND EXIT SIGN, 8.1.7 Exit and exit directional signs)                    │\n",
       "│                                                                                                                 │\n",
       "│ \u001B[1mExemptions\u001B[0m                                                                                                      │\n",
       "│                                                                                                                 │\n",
       "│ \u001B[1;33m • \u001B[0mExit sign is not required under the following situations:                                                    │\n",
       "│ \u001B[1;33m   \u001B[0m\u001B[1;33m • \u001B[0mPG I and II buildings                                                                                     │\n",
       "│ \u001B[1;33m   \u001B[0m\u001B[1;33m • \u001B[0mRoom provided with emergency lighting When a room is provided with only one door                          │\n",
       "│ \u001B[1;33m   \u001B[0m\u001B[1;33m • \u001B[0mRoom without emergency lighting (i) When a room is provided with only one door and the direct distance    │\n",
       "│ \u001B[1;33m   \u001B[0m\u001B[1;33m   \u001B[0mfrom the furthest distance in the room to the exit access door is 7m or less; or (ii) When the furthest   │\n",
       "│ \u001B[1;33m   \u001B[0m\u001B[1;33m   \u001B[0mpoint in the room to the exit access door is 13m or less and wall of the room comprises not less than 50% │\n",
       "│ \u001B[1;33m   \u001B[0m\u001B[1;33m   \u001B[0mclear glazing facing: an internal corridor covered by emergency lighting, an external corridor, or the    │\n",
       "│ \u001B[1;33m   \u001B[0m\u001B[1;33m   \u001B[0mexternal of the building.                                                                                 │\n",
       "│ \u001B[1;33m   \u001B[0m\u001B[1;33m • \u001B[0mOpen-sided single storey building, with floor area not exceeding 200m2 and openings that constitute at    │\n",
       "│ \u001B[1;33m   \u001B[0m\u001B[1;33m   \u001B[0mleast 80% of the perimeter wall area (measured along the roof eaves).                                     │\n",
       "│ \u001B[1;33m   \u001B[0m\u001B[1;33m • \u001B[0mWhen a room or internal space is fully open towards an external corridor or the external of a building.   │\n",
       "│ \u001B[1;33m   \u001B[0m\u001B[1;33m • \u001B[0mExit enclosure such as exit staircase and internal exit passageway not provided with final discharge      │\n",
       "│ \u001B[1;33m   \u001B[0m\u001B[1;33m   \u001B[0mdoor. (8.1 EXIT LIGHTING AND EXIT SIGN, 8.1.7 Exit and exit directional signs)                            │\n",
       "│                                                                                                                 │\n",
       "│ \u001B[1mPhotoluminescent Marking\u001B[0m                                                                                        │\n",
       "│                                                                                                                 │\n",
       "│ \u001B[1;33m • \u001B[0mIn all buildings, except PG I & II, photoluminescent marking/ tape to guide occupants along evacuation       │\n",
       "│ \u001B[1;33m   \u001B[0mroutes to appropriate exit shall be provided:                                                                │\n",
       "│ \u001B[1;33m   \u001B[0m\u001B[1;33m • \u001B[0mAlong internal walls and/ or floors of the exit staircase, smoke-free lobby and fire lift lobby;          │\n",
       "│ \u001B[1;33m   \u001B[0m\u001B[1;33m • \u001B[0mOn the doors of smoke-free lobby, fire lift lobby and exit staircase;                                     │\n",
       "│ \u001B[1;33m   \u001B[0m\u001B[1;33m • \u001B[0mAlong corridor with exit directional signs. (8.1 EXIT LIGHTING AND EXIT SIGN, 8.1.8 Photoluminescent      │\n",
       "│ \u001B[1;33m   \u001B[0m\u001B[1;33m   \u001B[0mmarking)                                                                                                  │\n",
       "│ \u001B[1;33m • \u001B[0mThe width of photoluminescent marking or tape shall be at least 50mm and be placed at low level. The bottom  │\n",
       "│ \u001B[1;33m   \u001B[0mof the low level sign shall not be less than 150mm or more than 400mm above the floor level. (8.1 EXIT       │\n",
       "│ \u001B[1;33m   \u001B[0mLIGHTING AND EXIT SIGN, 8.1.8 Photoluminescent marking)                                                      │\n",
       "│                                                                                                                 │\n",
       "│ \u001B[1mEmergency Lighting for Corridors and Lobbies\u001B[0m                                                                    │\n",
       "│                                                                                                                 │\n",
       "│ \u001B[1;33m • \u001B[0mEmergency lighting shall be provided in all corridors and lobbies of all buildings except PG I. (8.1 EXIT    │\n",
       "│ \u001B[1;33m   \u001B[0mLIGHTING AND EXIT SIGN, 8.1.2 Emergency lighting for corridors and lobbies)                                  │\n",
       "│ \u001B[1;33m • \u001B[0mThe minimum level of illuminance, the spacing of luminaires and the maximum delay for emergency lighting     │\n",
       "│ \u001B[1;33m   \u001B[0mrequired in this clause shall be the same as that for the exit lighting. (8.1 EXIT LIGHTING AND EXIT SIGN,   │\n",
       "│ \u001B[1;33m   \u001B[0m8.1.2 Emergency lighting for corridors and lobbies)                                                          │\n",
       "│                                                                                                                 │\n",
       "│ To ensure compliance, please refer to the following documents:                                                  │\n",
       "│                                                                                                                 │\n",
       "│ \u001B[1;33m • \u001B[0mRoom Design Requirements for Engineering Disciplines.pdf, Section: 2.1  Fire Command Centre (FCC), 2.1.1     │\n",
       "│ \u001B[1;33m   \u001B[0mFCC Room Provision, 2.1.2  FCC Room Location, 2.1.6  FCC Room Mechanical Ventilation, 2.1.7  FCC Room Exit   │\n",
       "│ \u001B[1;33m   \u001B[0mSign                                                                                                         │\n",
       "│ \u001B[1;33m • \u001B[0m\u001B]8;id=179864;https://www.scdf.gov.sg/firecode/table-of-content/chapter-8-emergency-lighting-voice-communicarion-systems/clause-8.1\u001B\\\u001B[4;34mSCDF Chapter 8 - Emergency Lighting & Voice Communication Systems.pdf\u001B[0m\u001B]8;;\u001B\\, Section: 8.1 EXIT LIGHTING AND EXIT   │\n",
       "│ \u001B[1;33m   \u001B[0mSIGN, 8.1.1 Exit lighting, 8.1.2 Emergency lighting for corridors and lobbies, 8.1.3 Emergency lighting for  │\n",
       "│ \u001B[1;33m   \u001B[0moccupied areas, 8.1.4 Emergency lighting for firefighting facilities, 8.1.7 Exit and exit directional signs, │\n",
       "│ \u001B[1;33m   \u001B[0m8.1.8 Photoluminescent marking                                                                               │\n",
       "╰─────────────────────────────────────────────────────────────────────────────────────────────────────────────────╯\n"
      ]
     },
     "metadata": {},
     "output_type": "display_data"
    }
   ],
   "source": [
    "from rich.console import Console\n",
    "from rich.markdown import Markdown\n",
    "from rich.panel import Panel\n",
    "\n",
    "console = Console()\n",
    "\n",
    "# Create Markdown objects with added headers\n",
    "md_input_1 = Markdown(f\"**Input:**\\n\\n{code_regulation_answer_1['input']}\")\n",
    "md_output_1 = Markdown(f\"**Output:**\\n\\n{code_regulation_answer_1['output']}\")\n",
    "\n",
    "# Print input and output in panels\n",
    "console.print(Panel(md_input_1, title=\"Input\", expand=False))\n",
    "console.print(Panel(md_output_1, title=\"Output\", expand=False))"
   ]
  },
  {
   "cell_type": "code",
   "execution_count": 0,
   "metadata": {
    "application/vnd.databricks.v1+cell": {
     "cellMetadata": {
      "byteLimit": 2048000,
      "rowLimit": 10000
     },
     "inputWidgets": {},
     "nuid": "a7f16f1c-d168-4bd6-a388-80a0c3fc7118",
     "showTitle": false,
     "title": ""
    }
   },
   "outputs": [
    {
     "output_type": "display_data",
     "data": {
      "application/vnd.jupyter.widget-view+json": {
       "model_id": "d815e953947b422bbbd657e1132800db",
       "version_major": 2,
       "version_minor": 0
      },
      "text/plain": [
       "Downloading artifacts:   0%|          | 0/11 [00:00<?, ?it/s]"
      ]
     },
     "metadata": {},
     "output_type": "display_data"
    },
    {
     "output_type": "stream",
     "name": "stderr",
     "output_type": "stream",
     "text": [
      "INFO:sentence_transformers.SentenceTransformer:Use pytorch device_name: cpu\nINFO:sentence_transformers.SentenceTransformer:Load pretrained SentenceTransformer: sentence-transformers/all-MiniLM-L6-v2\n"
     ]
    }
   ],
   "source": [
    "# Example question to pass to your process_question function\n",
    "code_regulation_question_2 = {\"query\": \"What are the regulations for fcc?\"}\n",
    "\n",
    "# Call the function to get the answer\n",
    "code_regulation_answer_2 = code_regulation_rag_chain.invoke(code_regulation_question_2[\"query\"])"
   ]
  },
  {
   "cell_type": "code",
   "execution_count": 0,
   "metadata": {
    "application/vnd.databricks.v1+cell": {
     "cellMetadata": {
      "byteLimit": 2048000,
      "rowLimit": 10000
     },
     "inputWidgets": {},
     "nuid": "a1772b93-1429-4edc-bed6-c1820a27a187",
     "showTitle": false,
     "title": ""
    }
   },
   "outputs": [
    {
     "output_type": "stream",
     "name": "stderr",
     "output_type": "stream",
     "text": [
      "INFO:py4j.clientserver:Received command c on object id p0\n"
     ]
    },
    {
     "output_type": "display_data",
     "data": {
      "text/html": [
       "<pre style=\"white-space:pre;overflow-x:auto;line-height:normal;font-family:Menlo,'DejaVu Sans Mono',consolas,'Courier New',monospace\">╭───────────────────────────────────────────────────── Input ─────────────────────────────────────────────────────╮\n",
       "│ <span style=\"font-weight: bold\">Input:</span>                                                                                                          │\n",
       "│                                                                                                                 │\n",
       "│ What are the regulations for fcc?                                                                               │\n",
       "╰─────────────────────────────────────────────────────────────────────────────────────────────────────────────────╯\n",
       "</pre>\n"
      ],
      "text/plain": [
       "╭───────────────────────────────────────────────────── Input ─────────────────────────────────────────────────────╮\n",
       "│ \u001B[1mInput:\u001B[0m                                                                                                          │\n",
       "│                                                                                                                 │\n",
       "│ What are the regulations for fcc?                                                                               │\n",
       "╰─────────────────────────────────────────────────────────────────────────────────────────────────────────────────╯\n"
      ]
     },
     "metadata": {},
     "output_type": "display_data"
    },
    {
     "output_type": "display_data",
     "data": {
      "text/html": [
       "<pre style=\"white-space:pre;overflow-x:auto;line-height:normal;font-family:Menlo,'DejaVu Sans Mono',consolas,'Courier New',monospace\">╭──────────────────────────────────────────────────── Output ─────────────────────────────────────────────────────╮\n",
       "│ <span style=\"font-weight: bold\">Output:</span>                                                                                                         │\n",
       "│                                                                                                                 │\n",
       "│ <span style=\"font-weight: bold\">Fire Command Centre (FCC) Regulations</span>                                                                           │\n",
       "│                                                                                                                 │\n",
       "│ <span style=\"font-weight: bold\">Provision</span>                                                                                                       │\n",
       "│                                                                                                                 │\n",
       "│ <span style=\"color: #808000; text-decoration-color: #808000; font-weight: bold\"> • </span>A Fire Command Centre (FCC) shall be provided in any building that requires a one-way or two-way emergency   │\n",
       "│ <span style=\"color: #808000; text-decoration-color: #808000; font-weight: bold\">   </span>voice communication system, a fire lift, or an engineered smoke control system, with exceptions for          │\n",
       "│ <span style=\"color: #808000; text-decoration-color: #808000; font-weight: bold\">   </span>buildings under PG I and II (PG II building having not more than two basement storeys used solely for car    │\n",
       "│ <span style=\"color: #808000; text-decoration-color: #808000; font-weight: bold\">   </span>parking).                                                                                                    │\n",
       "│ <span style=\"color: #808000; text-decoration-color: #808000; font-weight: bold\"> • </span>FCC shall be provided for all large buildings under PG III (not applicable to primary school, secondary      │\n",
       "│ <span style=\"color: #808000; text-decoration-color: #808000; font-weight: bold\">   </span>school, and junior colleges), IV, V, VI, VII, and VIII with AFA greater than 5000m² or having a total        │\n",
       "│ <span style=\"color: #808000; text-decoration-color: #808000; font-weight: bold\">   </span>occupant load exceeding 1000 persons.                                                                        │\n",
       "│ <span style=\"color: #808000; text-decoration-color: #808000; font-weight: bold\"> • </span>FCC shall be provided for all buildings belonging to PG III, IV, V, VI, VII, and VIII of more than 24m in    │\n",
       "│ <span style=\"color: #808000; text-decoration-color: #808000; font-weight: bold\">   </span>habitable height.                                                                                            │\n",
       "│                                                                                                                 │\n",
       "│ <span style=\"font-weight: bold\">Size</span>                                                                                                            │\n",
       "│                                                                                                                 │\n",
       "│ <span style=\"color: #808000; text-decoration-color: #808000; font-weight: bold\"> • </span>An FCC shall be of adequate size to house all the terminals and supervisory/control equipment of the         │\n",
       "│ <span style=\"color: #808000; text-decoration-color: #808000; font-weight: bold\">   </span>building's fire protection/detection systems.                                                                │\n",
       "│ <span style=\"color: #808000; text-decoration-color: #808000; font-weight: bold\"> • </span>A free working space (unobstructed by door swing) of at least 6m² and minimum clear width of 2m shall be     │\n",
       "│ <span style=\"color: #808000; text-decoration-color: #808000; font-weight: bold\">   </span>provided.                                                                                                    │\n",
       "│                                                                                                                 │\n",
       "│ <span style=\"font-weight: bold\">Location</span>                                                                                                        │\n",
       "│                                                                                                                 │\n",
       "│ <span style=\"color: #808000; text-decoration-color: #808000; font-weight: bold\"> • </span>The FCC shall be located at the same level as the fire engine accessway or fire engine access road.          │\n",
       "│ <span style=\"color: #808000; text-decoration-color: #808000; font-weight: bold\"> • </span>The FCC entrance shall be located in the following order of priority:                                        │\n",
       "│ <span style=\"color: #808000; text-decoration-color: #808000; font-weight: bold\">    1 </span>Within 5m from the entrance of the fire lift lobby at the designated storey of the building.              │\n",
       "│ <span style=\"color: #808000; text-decoration-color: #808000; font-weight: bold\">    2 </span>Within vicinity of the fire engine accessway or fire engine access road and within 5m from the entrance   │\n",
       "│ <span style=\"color: #808000; text-decoration-color: #808000; font-weight: bold\">      </span>of one of the protected stairs serving all storeys of the development.                                    │\n",
       "│ <span style=\"color: #808000; text-decoration-color: #808000; font-weight: bold\">    3 </span>At any other location as may be designated by the SCDF.                                                   │\n",
       "│                                                                                                                 │\n",
       "│ <span style=\"font-weight: bold\">Construction</span>                                                                                                    │\n",
       "│                                                                                                                 │\n",
       "│ <span style=\"color: #808000; text-decoration-color: #808000; font-weight: bold\"> • </span>The construction of enclosure, facilities, and lighting of an FCC shall comply with SS 546.                  │\n",
       "│ <span style=\"color: #808000; text-decoration-color: #808000; font-weight: bold\"> • </span>The FCC shall be of sound resistance construction having a sound attenuation of not less than 50dB.          │\n",
       "│ <span style=\"color: #808000; text-decoration-color: #808000; font-weight: bold\"> • </span>A vision panel not exceeding 150 mm by 300 mm may be incorporated into the door, provided it is glazed with  │\n",
       "│ <span style=\"color: #808000; text-decoration-color: #808000; font-weight: bold\">   </span>wired glass having the same fire resistance rating as the door.                                              │\n",
       "│                                                                                                                 │\n",
       "│ <span style=\"font-weight: bold\">Mechanical Ventilation</span>                                                                                          │\n",
       "│                                                                                                                 │\n",
       "│ <span style=\"color: #808000; text-decoration-color: #808000; font-weight: bold\"> • </span>Air-conditioning and/or mechanical ventilation where required for the FCC shall be provided with secondary   │\n",
       "│ <span style=\"color: #808000; text-decoration-color: #808000; font-weight: bold\">   </span>power supply and shall be independent of each other and have ductworks independent of any other ductwork     │\n",
       "│ <span style=\"color: #808000; text-decoration-color: #808000; font-weight: bold\">   </span>serving other parts of the building.                                                                         │\n",
       "│ <span style=\"color: #808000; text-decoration-color: #808000; font-weight: bold\"> • </span>The mechanical ventilation rate shall be 6 air change/hr.                                                    │\n",
       "│ <span style=\"color: #808000; text-decoration-color: #808000; font-weight: bold\"> • </span>Supply air shall be drawn directly from the external/air shaft; its intake point shall be arranged with      │\n",
       "│ <span style=\"color: #808000; text-decoration-color: #808000; font-weight: bold\">   </span>exhaust outlets to avoid re-circulating of air/smoke back into the room.                                     │\n",
       "│                                                                                                                 │\n",
       "│ <span style=\"font-weight: bold\">Main Equipment</span>                                                                                                  │\n",
       "│                                                                                                                 │\n",
       "│ <span style=\"color: #808000; text-decoration-color: #808000; font-weight: bold\"> • </span>Lift supervisory panel                                                                                       │\n",
       "│ <span style=\"color: #808000; text-decoration-color: #808000; font-weight: bold\"> • </span>Control Station of the EVC Systems                                                                           │\n",
       "│ <span style=\"color: #808000; text-decoration-color: #808000; font-weight: bold\"> • </span>Audible fire alarm signal                                                                                    │\n",
       "│ <span style=\"color: #808000; text-decoration-color: #808000; font-weight: bold\"> • </span>Main fire alarm panel or repeater/mimic panel, fire service signalling transmitter of the automatic fire     │\n",
       "│ <span style=\"color: #808000; text-decoration-color: #808000; font-weight: bold\">   </span>alarm system                                                                                                 │\n",
       "│ <span style=\"color: #808000; text-decoration-color: #808000; font-weight: bold\"> • </span>Sprinkler indicator board                                                                                    │\n",
       "│ <span style=\"color: #808000; text-decoration-color: #808000; font-weight: bold\"> • </span>Telephone connected to the external exchange                                                                 │\n",
       "│ <span style=\"color: #808000; text-decoration-color: #808000; font-weight: bold\"> • </span>Mechanical ventilation supervisory and control panel                                                         │\n",
       "│                                                                                                                 │\n",
       "│ <span style=\"font-weight: bold\">Supporting Equipment</span>                                                                                            │\n",
       "│                                                                                                                 │\n",
       "│ <span style=\"color: #808000; text-decoration-color: #808000; font-weight: bold\"> • </span>Background Music System – Integrated with a one-way emergency voice communication system rack for delivering │\n",
       "│ <span style=\"color: #808000; text-decoration-color: #808000; font-weight: bold\">   </span>critical messages.                                                                                           │\n",
       "│ <span style=\"color: #808000; text-decoration-color: #808000; font-weight: bold\"> • </span>Workstation/Server Rack for Security Card Access &amp; CCTV System – Ensures secure monitoring and control of    │\n",
       "│ <span style=\"color: #808000; text-decoration-color: #808000; font-weight: bold\">   </span>security card access and surveillance systems.                                                               │\n",
       "│ <span style=\"color: #808000; text-decoration-color: #808000; font-weight: bold\"> • </span>Workstation/Server Rack for Car Park Access Control System – Manages access control for parking facilities,  │\n",
       "│ <span style=\"color: #808000; text-decoration-color: #808000; font-weight: bold\">   </span>maintaining security and control.                                                                            │\n",
       "│ <span style=\"color: #808000; text-decoration-color: #808000; font-weight: bold\"> • </span>Workstation/Server Rack for Fire Alarm’s Colour Graphics System – Provides real-time graphical displays of   │\n",
       "│ <span style=\"color: #808000; text-decoration-color: #808000; font-weight: bold\">   </span>fire alarm data for quick incident identification.                                                           │\n",
       "│ <span style=\"color: #808000; text-decoration-color: #808000; font-weight: bold\"> • </span>Workstation/Server Rack for BMS/BAS and ACMV Systems – Monitors and controls the Building Management System  │\n",
       "│ <span style=\"color: #808000; text-decoration-color: #808000; font-weight: bold\">   </span>(BMS) or Building Automation System (BAS), including Air-Conditioning and Mechanical Ventilation (ACMV)      │\n",
       "│ <span style=\"color: #808000; text-decoration-color: #808000; font-weight: bold\">   </span>systems.                                                                                                     │\n",
       "│ <span style=\"color: #808000; text-decoration-color: #808000; font-weight: bold\"> • </span>Walkie-Talkie Charging Stations – Charging stations to keep walkie-talkies powered for effective             │\n",
       "│ <span style=\"color: #808000; text-decoration-color: #808000; font-weight: bold\">   </span>communication during emergencies.                                                                            │\n",
       "│ <span style=\"color: #808000; text-decoration-color: #808000; font-weight: bold\"> • </span>UPS System – A Uninterruptible Power Supply (UPS) with a sealed battery capacity not exceeding 750Amp-hr to  │\n",
       "│ <span style=\"color: #808000; text-decoration-color: #808000; font-weight: bold\">   </span>provide backup power for essential equipment.                                                                │\n",
       "│                                                                                                                 │\n",
       "│ To ensure compliance, please refer to the following documents:                                                  │\n",
       "│                                                                                                                 │\n",
       "│ <span style=\"color: #808000; text-decoration-color: #808000; font-weight: bold\"> • </span>Room Design Requirements for Engineering Disciplines.pdf, Section: 2.1  Fire Command Centre (FCC), 2.1.1     │\n",
       "│ <span style=\"color: #808000; text-decoration-color: #808000; font-weight: bold\">   </span>FCC Room Provision, 2.1.2  FCC Room Location, 2.1.3  FCC Room Size, 2.1.4  FCC Main Equipment, 2.1.5  FCC    │\n",
       "│ <span style=\"color: #808000; text-decoration-color: #808000; font-weight: bold\">   </span>Supporting Equipment, 2.1.6  FCC Room Mechanical Ventilation                                                 │\n",
       "│ <span style=\"color: #808000; text-decoration-color: #808000; font-weight: bold\"> • </span><a href=\"https://www.scdf.gov.sg/firecode/table-of-content/chapter-8-emergency-lighting-voice-communicarion-systems/clause-8.2\" target=\"_blank\"><span style=\"color: #000080; text-decoration-color: #000080; text-decoration: underline\">SCDF Chapter 8 - Emergency Lighting &amp; Voice Communication Systems.pdf</span></a>, Section: 8.2 EMERGENCY VOICE          │\n",
       "│ <span style=\"color: #808000; text-decoration-color: #808000; font-weight: bold\">   </span>COMMUNICATION SYSTEM AND FIRE COMMAND CENTRE (FCC), 8.2.1 One-way emergency voice communication system,      │\n",
       "│ <span style=\"color: #808000; text-decoration-color: #808000; font-weight: bold\">   </span>8.2.2 Two-way emergency voice communication system, 8.2.3 Standard, 8.2.4 Fire Command Centre                │\n",
       "╰─────────────────────────────────────────────────────────────────────────────────────────────────────────────────╯\n",
       "</pre>\n"
      ],
      "text/plain": [
       "╭──────────────────────────────────────────────────── Output ─────────────────────────────────────────────────────╮\n",
       "│ \u001B[1mOutput:\u001B[0m                                                                                                         │\n",
       "│                                                                                                                 │\n",
       "│ \u001B[1mFire Command Centre (FCC) Regulations\u001B[0m                                                                           │\n",
       "│                                                                                                                 │\n",
       "│ \u001B[1mProvision\u001B[0m                                                                                                       │\n",
       "│                                                                                                                 │\n",
       "│ \u001B[1;33m • \u001B[0mA Fire Command Centre (FCC) shall be provided in any building that requires a one-way or two-way emergency   │\n",
       "│ \u001B[1;33m   \u001B[0mvoice communication system, a fire lift, or an engineered smoke control system, with exceptions for          │\n",
       "│ \u001B[1;33m   \u001B[0mbuildings under PG I and II (PG II building having not more than two basement storeys used solely for car    │\n",
       "│ \u001B[1;33m   \u001B[0mparking).                                                                                                    │\n",
       "│ \u001B[1;33m • \u001B[0mFCC shall be provided for all large buildings under PG III (not applicable to primary school, secondary      │\n",
       "│ \u001B[1;33m   \u001B[0mschool, and junior colleges), IV, V, VI, VII, and VIII with AFA greater than 5000m² or having a total        │\n",
       "│ \u001B[1;33m   \u001B[0moccupant load exceeding 1000 persons.                                                                        │\n",
       "│ \u001B[1;33m • \u001B[0mFCC shall be provided for all buildings belonging to PG III, IV, V, VI, VII, and VIII of more than 24m in    │\n",
       "│ \u001B[1;33m   \u001B[0mhabitable height.                                                                                            │\n",
       "│                                                                                                                 │\n",
       "│ \u001B[1mSize\u001B[0m                                                                                                            │\n",
       "│                                                                                                                 │\n",
       "│ \u001B[1;33m • \u001B[0mAn FCC shall be of adequate size to house all the terminals and supervisory/control equipment of the         │\n",
       "│ \u001B[1;33m   \u001B[0mbuilding's fire protection/detection systems.                                                                │\n",
       "│ \u001B[1;33m • \u001B[0mA free working space (unobstructed by door swing) of at least 6m² and minimum clear width of 2m shall be     │\n",
       "│ \u001B[1;33m   \u001B[0mprovided.                                                                                                    │\n",
       "│                                                                                                                 │\n",
       "│ \u001B[1mLocation\u001B[0m                                                                                                        │\n",
       "│                                                                                                                 │\n",
       "│ \u001B[1;33m • \u001B[0mThe FCC shall be located at the same level as the fire engine accessway or fire engine access road.          │\n",
       "│ \u001B[1;33m • \u001B[0mThe FCC entrance shall be located in the following order of priority:                                        │\n",
       "│ \u001B[1;33m   \u001B[0m\u001B[1;33m 1 \u001B[0mWithin 5m from the entrance of the fire lift lobby at the designated storey of the building.              │\n",
       "│ \u001B[1;33m   \u001B[0m\u001B[1;33m 2 \u001B[0mWithin vicinity of the fire engine accessway or fire engine access road and within 5m from the entrance   │\n",
       "│ \u001B[1;33m   \u001B[0m\u001B[1;33m   \u001B[0mof one of the protected stairs serving all storeys of the development.                                    │\n",
       "│ \u001B[1;33m   \u001B[0m\u001B[1;33m 3 \u001B[0mAt any other location as may be designated by the SCDF.                                                   │\n",
       "│                                                                                                                 │\n",
       "│ \u001B[1mConstruction\u001B[0m                                                                                                    │\n",
       "│                                                                                                                 │\n",
       "│ \u001B[1;33m • \u001B[0mThe construction of enclosure, facilities, and lighting of an FCC shall comply with SS 546.                  │\n",
       "│ \u001B[1;33m • \u001B[0mThe FCC shall be of sound resistance construction having a sound attenuation of not less than 50dB.          │\n",
       "│ \u001B[1;33m • \u001B[0mA vision panel not exceeding 150 mm by 300 mm may be incorporated into the door, provided it is glazed with  │\n",
       "│ \u001B[1;33m   \u001B[0mwired glass having the same fire resistance rating as the door.                                              │\n",
       "│                                                                                                                 │\n",
       "│ \u001B[1mMechanical Ventilation\u001B[0m                                                                                          │\n",
       "│                                                                                                                 │\n",
       "│ \u001B[1;33m • \u001B[0mAir-conditioning and/or mechanical ventilation where required for the FCC shall be provided with secondary   │\n",
       "│ \u001B[1;33m   \u001B[0mpower supply and shall be independent of each other and have ductworks independent of any other ductwork     │\n",
       "│ \u001B[1;33m   \u001B[0mserving other parts of the building.                                                                         │\n",
       "│ \u001B[1;33m • \u001B[0mThe mechanical ventilation rate shall be 6 air change/hr.                                                    │\n",
       "│ \u001B[1;33m • \u001B[0mSupply air shall be drawn directly from the external/air shaft; its intake point shall be arranged with      │\n",
       "│ \u001B[1;33m   \u001B[0mexhaust outlets to avoid re-circulating of air/smoke back into the room.                                     │\n",
       "│                                                                                                                 │\n",
       "│ \u001B[1mMain Equipment\u001B[0m                                                                                                  │\n",
       "│                                                                                                                 │\n",
       "│ \u001B[1;33m • \u001B[0mLift supervisory panel                                                                                       │\n",
       "│ \u001B[1;33m • \u001B[0mControl Station of the EVC Systems                                                                           │\n",
       "│ \u001B[1;33m • \u001B[0mAudible fire alarm signal                                                                                    │\n",
       "│ \u001B[1;33m • \u001B[0mMain fire alarm panel or repeater/mimic panel, fire service signalling transmitter of the automatic fire     │\n",
       "│ \u001B[1;33m   \u001B[0malarm system                                                                                                 │\n",
       "│ \u001B[1;33m • \u001B[0mSprinkler indicator board                                                                                    │\n",
       "│ \u001B[1;33m • \u001B[0mTelephone connected to the external exchange                                                                 │\n",
       "│ \u001B[1;33m • \u001B[0mMechanical ventilation supervisory and control panel                                                         │\n",
       "│                                                                                                                 │\n",
       "│ \u001B[1mSupporting Equipment\u001B[0m                                                                                            │\n",
       "│                                                                                                                 │\n",
       "│ \u001B[1;33m • \u001B[0mBackground Music System – Integrated with a one-way emergency voice communication system rack for delivering │\n",
       "│ \u001B[1;33m   \u001B[0mcritical messages.                                                                                           │\n",
       "│ \u001B[1;33m • \u001B[0mWorkstation/Server Rack for Security Card Access & CCTV System – Ensures secure monitoring and control of    │\n",
       "│ \u001B[1;33m   \u001B[0msecurity card access and surveillance systems.                                                               │\n",
       "│ \u001B[1;33m • \u001B[0mWorkstation/Server Rack for Car Park Access Control System – Manages access control for parking facilities,  │\n",
       "│ \u001B[1;33m   \u001B[0mmaintaining security and control.                                                                            │\n",
       "│ \u001B[1;33m • \u001B[0mWorkstation/Server Rack for Fire Alarm’s Colour Graphics System – Provides real-time graphical displays of   │\n",
       "│ \u001B[1;33m   \u001B[0mfire alarm data for quick incident identification.                                                           │\n",
       "│ \u001B[1;33m • \u001B[0mWorkstation/Server Rack for BMS/BAS and ACMV Systems – Monitors and controls the Building Management System  │\n",
       "│ \u001B[1;33m   \u001B[0m(BMS) or Building Automation System (BAS), including Air-Conditioning and Mechanical Ventilation (ACMV)      │\n",
       "│ \u001B[1;33m   \u001B[0msystems.                                                                                                     │\n",
       "│ \u001B[1;33m • \u001B[0mWalkie-Talkie Charging Stations – Charging stations to keep walkie-talkies powered for effective             │\n",
       "│ \u001B[1;33m   \u001B[0mcommunication during emergencies.                                                                            │\n",
       "│ \u001B[1;33m • \u001B[0mUPS System – A Uninterruptible Power Supply (UPS) with a sealed battery capacity not exceeding 750Amp-hr to  │\n",
       "│ \u001B[1;33m   \u001B[0mprovide backup power for essential equipment.                                                                │\n",
       "│                                                                                                                 │\n",
       "│ To ensure compliance, please refer to the following documents:                                                  │\n",
       "│                                                                                                                 │\n",
       "│ \u001B[1;33m • \u001B[0mRoom Design Requirements for Engineering Disciplines.pdf, Section: 2.1  Fire Command Centre (FCC), 2.1.1     │\n",
       "│ \u001B[1;33m   \u001B[0mFCC Room Provision, 2.1.2  FCC Room Location, 2.1.3  FCC Room Size, 2.1.4  FCC Main Equipment, 2.1.5  FCC    │\n",
       "│ \u001B[1;33m   \u001B[0mSupporting Equipment, 2.1.6  FCC Room Mechanical Ventilation                                                 │\n",
       "│ \u001B[1;33m • \u001B[0m\u001B]8;id=323552;https://www.scdf.gov.sg/firecode/table-of-content/chapter-8-emergency-lighting-voice-communicarion-systems/clause-8.2\u001B\\\u001B[4;34mSCDF Chapter 8 - Emergency Lighting & Voice Communication Systems.pdf\u001B[0m\u001B]8;;\u001B\\, Section: 8.2 EMERGENCY VOICE          │\n",
       "│ \u001B[1;33m   \u001B[0mCOMMUNICATION SYSTEM AND FIRE COMMAND CENTRE (FCC), 8.2.1 One-way emergency voice communication system,      │\n",
       "│ \u001B[1;33m   \u001B[0m8.2.2 Two-way emergency voice communication system, 8.2.3 Standard, 8.2.4 Fire Command Centre                │\n",
       "╰─────────────────────────────────────────────────────────────────────────────────────────────────────────────────╯\n"
      ]
     },
     "metadata": {},
     "output_type": "display_data"
    }
   ],
   "source": [
    "from rich.console import Console\n",
    "from rich.markdown import Markdown\n",
    "from rich.panel import Panel\n",
    "\n",
    "console = Console()\n",
    "\n",
    "# Create Markdown objects with added headers\n",
    "md_input_2 = Markdown(f\"**Input:**\\n\\n{code_regulation_answer_2['input']}\")\n",
    "md_output_2 = Markdown(f\"**Output:**\\n\\n{code_regulation_answer_2['output']}\")\n",
    "\n",
    "# Print input and output in panels\n",
    "console.print(Panel(md_input_2, title=\"Input\", expand=False))\n",
    "console.print(Panel(md_output_2, title=\"Output\", expand=False))"
   ]
  },
  {
   "cell_type": "markdown",
   "metadata": {
    "application/vnd.databricks.v1+cell": {
     "cellMetadata": {},
     "inputWidgets": {},
     "nuid": "b03e2f1d-ba48-4ce7-8ca0-686262ca5ed4",
     "showTitle": false,
     "title": ""
    }
   },
   "source": [
    "#### Create Code and Regulation Rag Model and save to Registry (Optional)"
   ]
  },
  {
   "cell_type": "code",
   "execution_count": 0,
   "metadata": {
    "application/vnd.databricks.v1+cell": {
     "cellMetadata": {},
     "inputWidgets": {},
     "nuid": "a19eb914-75a7-4d20-b18e-6636054630a8",
     "showTitle": false,
     "title": ""
    }
   },
   "outputs": [],
   "source": [
    "# # Only run this if want to create model in model registry\n",
    "# from mlflow.models import infer_signature\n",
    "# import mlflow\n",
    "# import langchain\n",
    "\n",
    "# code_regulation_model_name = \"code_regulations_rag_model\"\n",
    "\n",
    "# # save the langchain model to registry if needed\n",
    "# with mlflow.start_run(run_name=\"code_regulations_rag_model\") as run:\n",
    "#     # Infer the signature from the question and answer\n",
    "#     code_regulation_signature = infer_signature(code_regulation_question, code_regulation_answer)\n",
    "\n",
    "#     # Log the code_regulation_final_chain model to MLflow with retriever\n",
    "#     model_info = mlflow.langchain.log_model(\n",
    "#         code_regulation_final_chain,\n",
    "#         loader_fn=code_regulation_get_retriever,  # Ensure get_retriever is defined\n",
    "#         artifact_path=\"code_regulation_final_chain\",\n",
    "#         registered_model_name=code_regulation_model_name,\n",
    "#         pip_requirements=[\n",
    "#             \"mlflow==\" + mlflow.__version__,\n",
    "#             \"langchain==\" + langchain.__version__,\n",
    "#             \"databricks-vectorsearch\",\n",
    "#         ],\n",
    "#         input_example=code_regulation_question,  # Set the input example as the question\n",
    "#         signature=code_regulation_signature  # Add the inferred signature\n",
    "#     )"
   ]
  }
 ],
 "metadata": {
  "application/vnd.databricks.v1+notebook": {
   "dashboards": [],
   "environmentMetadata": {
    "base_environment": "/Workspace/Shared/genai-databricks-hackathon-2024/databricks-notebooks/databricks_base_environment.yml",
    "client": "1"
   },
   "language": "python",
   "notebookMetadata": {
    "pythonIndentUnit": 4
   },
   "notebookName": "code_regulation_rag_chain",
   "widgets": {}
  }
 },
 "nbformat": 4,
 "nbformat_minor": 0
}
