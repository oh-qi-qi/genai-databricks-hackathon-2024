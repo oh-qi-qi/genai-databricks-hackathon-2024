{
 "cells": [
  {
   "cell_type": "code",
   "execution_count": 0,
   "metadata": {
    "application/vnd.databricks.v1+cell": {
     "cellMetadata": {
      "byteLimit": 2048000,
      "rowLimit": 10000
     },
     "inputWidgets": {},
     "nuid": "369ea041-ca73-41b7-8a4d-c502f8ed819f",
     "showTitle": false,
     "title": ""
    }
   },
   "outputs": [],
   "source": [
    "# create the sentence transformer (can skip if model exist)\n",
    "\n",
    "import mlflow\n",
    "import mlflow.pyfunc\n",
    "import pandas as pd\n",
    "from sentence_transformers import SentenceTransformer\n",
    "import numpy as np\n",
    "\n",
    "class SentenceTransformerModel(mlflow.pyfunc.PythonModel):\n",
    "\n",
    "    def load_context(self, context):\n",
    "        # Load the sentence transformer model\n",
    "        self.model = SentenceTransformer('sentence-transformers/all-MiniLM-L6-v2')  # Use your model name here\n",
    "\n",
    "    def predict(self, context, model_input):\n",
    "        def encode_text(text):\n",
    "            try:\n",
    "                return self.model.encode(text, show_progress_bar=False)\n",
    "            except Exception as e:\n",
    "                print(f\"Error encoding text: {text}. Error: {str(e)}\")\n",
    "                return np.zeros(384)  # Assuming embedding size is 384\n",
    "\n",
    "        # Apply the model to the input DataFrame\n",
    "        text_series = model_input.iloc[:, 0]  # Assuming the first column is the text\n",
    "        embeddings = text_series.apply(encode_text)\n",
    "        return pd.DataFrame(embeddings.tolist())\n",
    "\n",
    "# Create sample input and output\n",
    "sample_input = pd.DataFrame({'text': [\"This is a sample sentence\"]})\n",
    "model = SentenceTransformer('sentence-transformers/all-MiniLM-L6-v2')\n",
    "\n",
    "# Create sample output by encoding the text\n",
    "sample_output = pd.DataFrame([model.encode(\"This is a sample sentence\").tolist()])\n",
    "\n",
    "# Infer the model signature\n",
    "from mlflow.models.signature import infer_signature\n",
    "signature = infer_signature(sample_input, sample_output)\n",
    "\n",
    "run_name=\"all-MiniLM-L6-v2-run\"\n",
    "\n",
    "# Log the model to MLflow\n",
    "with mlflow.start_run(run_name=run_name) as run:\n",
    "    mlflow.pyfunc.log_model(\n",
    "        artifact_path=\"hugging_face_sentence_transformer_model\",\n",
    "        python_model=SentenceTransformerModel(),\n",
    "        input_example=sample_input,\n",
    "        signature=signature,\n",
    "        registered_model_name=\"hugging_face_sentence_transformer_model\"  # Specify the name in the registry\n",
    "    )"
   ]
  }
 ],
 "metadata": {
  "application/vnd.databricks.v1+notebook": {
   "dashboards": [],
   "environmentMetadata": {
    "base_environment": "/Workspace/Shared/genai-databricks-hackathon-2024/databricks-notebooks/databricks_base_environment.yml",
    "client": "1",
    "dependencies": [
     "sentence-transformers",
     "mlflow"
    ]
   },
   "language": "python",
   "notebookMetadata": {
    "pythonIndentUnit": 4
   },
   "notebookName": "code_regulation_embedding_model",
   "widgets": {}
  }
 },
 "nbformat": 4,
 "nbformat_minor": 0
}
