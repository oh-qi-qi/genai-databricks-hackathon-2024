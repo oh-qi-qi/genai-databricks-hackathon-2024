{
 "cells": [
  {
   "cell_type": "code",
   "execution_count": 0,
   "metadata": {
    "application/vnd.databricks.v1+cell": {
     "cellMetadata": {
      "byteLimit": 2048000,
      "rowLimit": 10000
     },
     "inputWidgets": {},
     "nuid": "d2284d7c-58b2-4ace-9156-6b37d5741fbd",
     "showTitle": false,
     "title": ""
    }
   },
   "outputs": [
    {
     "output_type": "stream",
     "name": "stdout",
     "output_type": "stream",
     "text": [
      "Requirement already satisfied: sentence-transformers in /local_disk0/.ephemeral_nfs/envs/pythonEnv-6504b78e-80d6-4c68-a1d5-dbfe24a5798e/lib/python3.10/site-packages (2.2.2)\nCollecting sentence-transformers\n  Using cached sentence_transformers-3.2.1-py3-none-any.whl (255 kB)\nRequirement already satisfied: scipy in /databricks/python3/lib/python3.10/site-packages (from sentence-transformers) (1.10.0)\nCollecting transformers<5.0.0,>=4.41.0\n  Using cached transformers-4.45.2-py3-none-any.whl (9.9 MB)\nRequirement already satisfied: Pillow in /databricks/python3/lib/python3.10/site-packages (from sentence-transformers) (9.4.0)\nRequirement already satisfied: scikit-learn in /databricks/python3/lib/python3.10/site-packages (from sentence-transformers) (1.1.1)\nRequirement already satisfied: torch>=1.11.0 in /local_disk0/.ephemeral_nfs/envs/pythonEnv-6504b78e-80d6-4c68-a1d5-dbfe24a5798e/lib/python3.10/site-packages (from sentence-transformers) (2.5.0)\nRequirement already satisfied: huggingface-hub>=0.20.0 in /local_disk0/.ephemeral_nfs/envs/pythonEnv-6504b78e-80d6-4c68-a1d5-dbfe24a5798e/lib/python3.10/site-packages (from sentence-transformers) (0.26.1)\nRequirement already satisfied: tqdm in /local_disk0/.ephemeral_nfs/envs/pythonEnv-6504b78e-80d6-4c68-a1d5-dbfe24a5798e/lib/python3.10/site-packages (from sentence-transformers) (4.66.5)\nRequirement already satisfied: requests in /local_disk0/.ephemeral_nfs/envs/pythonEnv-6504b78e-80d6-4c68-a1d5-dbfe24a5798e/lib/python3.10/site-packages (from huggingface-hub>=0.20.0->sentence-transformers) (2.32.3)\nRequirement already satisfied: pyyaml>=5.1 in /local_disk0/.ephemeral_nfs/envs/pythonEnv-6504b78e-80d6-4c68-a1d5-dbfe24a5798e/lib/python3.10/site-packages (from huggingface-hub>=0.20.0->sentence-transformers) (6.0.2)\nRequirement already satisfied: typing-extensions>=3.7.4.3 in /local_disk0/.ephemeral_nfs/envs/pythonEnv-6504b78e-80d6-4c68-a1d5-dbfe24a5798e/lib/python3.10/site-packages (from huggingface-hub>=0.20.0->sentence-transformers) (4.12.2)\nRequirement already satisfied: filelock in /usr/local/lib/python3.10/dist-packages (from huggingface-hub>=0.20.0->sentence-transformers) (3.14.0)\nRequirement already satisfied: fsspec>=2023.5.0 in /local_disk0/.ephemeral_nfs/envs/pythonEnv-6504b78e-80d6-4c68-a1d5-dbfe24a5798e/lib/python3.10/site-packages (from huggingface-hub>=0.20.0->sentence-transformers) (2024.10.0)\nRequirement already satisfied: packaging>=20.9 in /databricks/python3/lib/python3.10/site-packages (from huggingface-hub>=0.20.0->sentence-transformers) (23.2)\nRequirement already satisfied: nvidia-cuda-cupti-cu12==12.4.127 in /local_disk0/.ephemeral_nfs/envs/pythonEnv-6504b78e-80d6-4c68-a1d5-dbfe24a5798e/lib/python3.10/site-packages (from torch>=1.11.0->sentence-transformers) (12.4.127)\nRequirement already satisfied: nvidia-cuda-nvrtc-cu12==12.4.127 in /local_disk0/.ephemeral_nfs/envs/pythonEnv-6504b78e-80d6-4c68-a1d5-dbfe24a5798e/lib/python3.10/site-packages (from torch>=1.11.0->sentence-transformers) (12.4.127)\nRequirement already satisfied: nvidia-nvtx-cu12==12.4.127 in /local_disk0/.ephemeral_nfs/envs/pythonEnv-6504b78e-80d6-4c68-a1d5-dbfe24a5798e/lib/python3.10/site-packages (from torch>=1.11.0->sentence-transformers) (12.4.127)\nRequirement already satisfied: nvidia-cufft-cu12==11.2.1.3 in /local_disk0/.ephemeral_nfs/envs/pythonEnv-6504b78e-80d6-4c68-a1d5-dbfe24a5798e/lib/python3.10/site-packages (from torch>=1.11.0->sentence-transformers) (11.2.1.3)\nRequirement already satisfied: triton==3.1.0 in /local_disk0/.ephemeral_nfs/envs/pythonEnv-6504b78e-80d6-4c68-a1d5-dbfe24a5798e/lib/python3.10/site-packages (from torch>=1.11.0->sentence-transformers) (3.1.0)\nRequirement already satisfied: networkx in /local_disk0/.ephemeral_nfs/envs/pythonEnv-6504b78e-80d6-4c68-a1d5-dbfe24a5798e/lib/python3.10/site-packages (from torch>=1.11.0->sentence-transformers) (3.4.1)\nRequirement already satisfied: jinja2 in /databricks/python3/lib/python3.10/site-packages (from torch>=1.11.0->sentence-transformers) (3.1.2)\nRequirement already satisfied: nvidia-nvjitlink-cu12==12.4.127 in /local_disk0/.ephemeral_nfs/envs/pythonEnv-6504b78e-80d6-4c68-a1d5-dbfe24a5798e/lib/python3.10/site-packages (from torch>=1.11.0->sentence-transformers) (12.4.127)\nRequirement already satisfied: nvidia-curand-cu12==10.3.5.147 in /local_disk0/.ephemeral_nfs/envs/pythonEnv-6504b78e-80d6-4c68-a1d5-dbfe24a5798e/lib/python3.10/site-packages (from torch>=1.11.0->sentence-transformers) (10.3.5.147)\nRequirement already satisfied: nvidia-cuda-runtime-cu12==12.4.127 in /local_disk0/.ephemeral_nfs/envs/pythonEnv-6504b78e-80d6-4c68-a1d5-dbfe24a5798e/lib/python3.10/site-packages (from torch>=1.11.0->sentence-transformers) (12.4.127)\nRequirement already satisfied: nvidia-nccl-cu12==2.21.5 in /local_disk0/.ephemeral_nfs/envs/pythonEnv-6504b78e-80d6-4c68-a1d5-dbfe24a5798e/lib/python3.10/site-packages (from torch>=1.11.0->sentence-transformers) (2.21.5)\nRequirement already satisfied: nvidia-cublas-cu12==12.4.5.8 in /local_disk0/.ephemeral_nfs/envs/pythonEnv-6504b78e-80d6-4c68-a1d5-dbfe24a5798e/lib/python3.10/site-packages (from torch>=1.11.0->sentence-transformers) (12.4.5.8)\nRequirement already satisfied: nvidia-cusparse-cu12==12.3.1.170 in /local_disk0/.ephemeral_nfs/envs/pythonEnv-6504b78e-80d6-4c68-a1d5-dbfe24a5798e/lib/python3.10/site-packages (from torch>=1.11.0->sentence-transformers) (12.3.1.170)\nRequirement already satisfied: nvidia-cudnn-cu12==9.1.0.70 in /local_disk0/.ephemeral_nfs/envs/pythonEnv-6504b78e-80d6-4c68-a1d5-dbfe24a5798e/lib/python3.10/site-packages (from torch>=1.11.0->sentence-transformers) (9.1.0.70)\nRequirement already satisfied: nvidia-cusolver-cu12==11.6.1.9 in /local_disk0/.ephemeral_nfs/envs/pythonEnv-6504b78e-80d6-4c68-a1d5-dbfe24a5798e/lib/python3.10/site-packages (from torch>=1.11.0->sentence-transformers) (11.6.1.9)\nRequirement already satisfied: sympy==1.13.1 in /local_disk0/.ephemeral_nfs/envs/pythonEnv-6504b78e-80d6-4c68-a1d5-dbfe24a5798e/lib/python3.10/site-packages (from torch>=1.11.0->sentence-transformers) (1.13.1)\nRequirement already satisfied: mpmath<1.4,>=1.1.0 in /local_disk0/.ephemeral_nfs/envs/pythonEnv-6504b78e-80d6-4c68-a1d5-dbfe24a5798e/lib/python3.10/site-packages (from sympy==1.13.1->torch>=1.11.0->sentence-transformers) (1.3.0)\nRequirement already satisfied: numpy>=1.17 in /databricks/python3/lib/python3.10/site-packages (from transformers<5.0.0,>=4.41.0->sentence-transformers) (1.23.5)\nRequirement already satisfied: safetensors>=0.4.1 in /local_disk0/.ephemeral_nfs/envs/pythonEnv-6504b78e-80d6-4c68-a1d5-dbfe24a5798e/lib/python3.10/site-packages (from transformers<5.0.0,>=4.41.0->sentence-transformers) (0.4.5)\nRequirement already satisfied: regex!=2019.12.17 in /local_disk0/.ephemeral_nfs/envs/pythonEnv-6504b78e-80d6-4c68-a1d5-dbfe24a5798e/lib/python3.10/site-packages (from transformers<5.0.0,>=4.41.0->sentence-transformers) (2024.9.11)\nCollecting tokenizers<0.21,>=0.20\n  Using cached tokenizers-0.20.1-cp310-cp310-manylinux_2_17_x86_64.manylinux2014_x86_64.whl (3.0 MB)\nRequirement already satisfied: threadpoolctl>=2.0.0 in /databricks/python3/lib/python3.10/site-packages (from scikit-learn->sentence-transformers) (2.2.0)\nRequirement already satisfied: joblib>=1.0.0 in /databricks/python3/lib/python3.10/site-packages (from scikit-learn->sentence-transformers) (1.2.0)\nRequirement already satisfied: MarkupSafe>=2.0 in /databricks/python3/lib/python3.10/site-packages (from jinja2->torch>=1.11.0->sentence-transformers) (2.1.1)\nRequirement already satisfied: charset-normalizer<4,>=2 in /databricks/python3/lib/python3.10/site-packages (from requests->huggingface-hub>=0.20.0->sentence-transformers) (2.0.4)\nRequirement already satisfied: certifi>=2017.4.17 in /databricks/python3/lib/python3.10/site-packages (from requests->huggingface-hub>=0.20.0->sentence-transformers) (2022.12.7)\nRequirement already satisfied: idna<4,>=2.5 in /databricks/python3/lib/python3.10/site-packages (from requests->huggingface-hub>=0.20.0->sentence-transformers) (3.4)\nRequirement already satisfied: urllib3<3,>=1.21.1 in /databricks/python3/lib/python3.10/site-packages (from requests->huggingface-hub>=0.20.0->sentence-transformers) (1.26.14)\nInstalling collected packages: tokenizers, transformers, sentence-transformers\n  Attempting uninstall: tokenizers\n    Found existing installation: tokenizers 0.15.2\n    Uninstalling tokenizers-0.15.2:\n      Successfully uninstalled tokenizers-0.15.2\n  Attempting uninstall: transformers\n    Found existing installation: transformers 4.36.1\n    Uninstalling transformers-4.36.1:\n      Successfully uninstalled transformers-4.36.1\n  Attempting uninstall: sentence-transformers\n    Found existing installation: sentence-transformers 2.2.2\n    Uninstalling sentence-transformers-2.2.2:\n      Successfully uninstalled sentence-transformers-2.2.2\nSuccessfully installed sentence-transformers-3.2.1 tokenizers-0.20.1 transformers-4.45.2\n\u001B[43mNote: you may need to restart the kernel using %restart_python or dbutils.library.restartPython() to use updated packages.\u001B[0m\n"
     ]
    }
   ],
   "source": [
    "%pip install -U sentence-transformers"
   ]
  },
  {
   "cell_type": "code",
   "execution_count": 0,
   "metadata": {
    "application/vnd.databricks.v1+cell": {
     "cellMetadata": {
      "byteLimit": 2048000,
      "rowLimit": 10000
     },
     "inputWidgets": {},
     "nuid": "369ea041-ca73-41b7-8a4d-c502f8ed819f",
     "showTitle": false,
     "title": ""
    }
   },
   "outputs": [
    {
     "output_type": "stream",
     "name": "stderr",
     "output_type": "stream",
     "text": [
      "/databricks/python_shell/dbruntime/autoreload/discoverability/hook.py:72: TqdmExperimentalWarning: Using `tqdm.autonotebook.tqdm` in notebook mode. Use `tqdm.tqdm` instead to force console mode (e.g. in jupyter console)\n  module = self._original_builtins_import(name, *args, **kwargs)\n"
     ]
    },
    {
     "output_type": "display_data",
     "data": {
      "application/vnd.jupyter.widget-view+json": {
       "model_id": "dddca48da20448428ceaebf9f88dac56",
       "version_major": 2,
       "version_minor": 0
      },
      "text/plain": [
       "modules.json:   0%|          | 0.00/349 [00:00<?, ?B/s]"
      ]
     },
     "metadata": {},
     "output_type": "display_data"
    },
    {
     "output_type": "display_data",
     "data": {
      "application/vnd.jupyter.widget-view+json": {
       "model_id": "bb0bfcac9439462e995c876f7d80cab5",
       "version_major": 2,
       "version_minor": 0
      },
      "text/plain": [
       "config_sentence_transformers.json:   0%|          | 0.00/116 [00:00<?, ?B/s]"
      ]
     },
     "metadata": {},
     "output_type": "display_data"
    },
    {
     "output_type": "display_data",
     "data": {
      "application/vnd.jupyter.widget-view+json": {
       "model_id": "a269b54f8c754ba7be3e19ed867b2075",
       "version_major": 2,
       "version_minor": 0
      },
      "text/plain": [
       "README.md:   0%|          | 0.00/10.7k [00:00<?, ?B/s]"
      ]
     },
     "metadata": {},
     "output_type": "display_data"
    },
    {
     "output_type": "display_data",
     "data": {
      "application/vnd.jupyter.widget-view+json": {
       "model_id": "4d87d8141c3a43a5927e8f8c86b6c6b3",
       "version_major": 2,
       "version_minor": 0
      },
      "text/plain": [
       "sentence_bert_config.json:   0%|          | 0.00/53.0 [00:00<?, ?B/s]"
      ]
     },
     "metadata": {},
     "output_type": "display_data"
    },
    {
     "output_type": "display_data",
     "data": {
      "application/vnd.jupyter.widget-view+json": {
       "model_id": "3a67dc021f12459bb7e983a78ebc7719",
       "version_major": 2,
       "version_minor": 0
      },
      "text/plain": [
       "config.json:   0%|          | 0.00/612 [00:00<?, ?B/s]"
      ]
     },
     "metadata": {},
     "output_type": "display_data"
    },
    {
     "output_type": "display_data",
     "data": {
      "application/vnd.jupyter.widget-view+json": {
       "model_id": "eaef29a672c84615876b8f073e66ed3e",
       "version_major": 2,
       "version_minor": 0
      },
      "text/plain": [
       "model.safetensors:   0%|          | 0.00/90.9M [00:00<?, ?B/s]"
      ]
     },
     "metadata": {},
     "output_type": "display_data"
    },
    {
     "output_type": "display_data",
     "data": {
      "application/vnd.jupyter.widget-view+json": {
       "model_id": "4413dd6fd7a24da298de893aa7050956",
       "version_major": 2,
       "version_minor": 0
      },
      "text/plain": [
       "tokenizer_config.json:   0%|          | 0.00/350 [00:00<?, ?B/s]"
      ]
     },
     "metadata": {},
     "output_type": "display_data"
    },
    {
     "output_type": "display_data",
     "data": {
      "application/vnd.jupyter.widget-view+json": {
       "model_id": "e0b0cc2e8f854e8a96594511837f27ce",
       "version_major": 2,
       "version_minor": 0
      },
      "text/plain": [
       "vocab.txt:   0%|          | 0.00/232k [00:00<?, ?B/s]"
      ]
     },
     "metadata": {},
     "output_type": "display_data"
    },
    {
     "output_type": "display_data",
     "data": {
      "application/vnd.jupyter.widget-view+json": {
       "model_id": "4f1f3daee5da45af9839a06681da9b1d",
       "version_major": 2,
       "version_minor": 0
      },
      "text/plain": [
       "tokenizer.json:   0%|          | 0.00/466k [00:00<?, ?B/s]"
      ]
     },
     "metadata": {},
     "output_type": "display_data"
    },
    {
     "output_type": "display_data",
     "data": {
      "application/vnd.jupyter.widget-view+json": {
       "model_id": "30403cfa79d2422bbb7825ccb6b4e88a",
       "version_major": 2,
       "version_minor": 0
      },
      "text/plain": [
       "special_tokens_map.json:   0%|          | 0.00/112 [00:00<?, ?B/s]"
      ]
     },
     "metadata": {},
     "output_type": "display_data"
    },
    {
     "output_type": "display_data",
     "data": {
      "application/vnd.jupyter.widget-view+json": {
       "model_id": "9ce0ad60ad544c5599a6ece06beae846",
       "version_major": 2,
       "version_minor": 0
      },
      "text/plain": [
       "1_Pooling/config.json:   0%|          | 0.00/190 [00:00<?, ?B/s]"
      ]
     },
     "metadata": {},
     "output_type": "display_data"
    },
    {
     "output_type": "display_data",
     "data": {
      "application/vnd.jupyter.widget-view+json": {
       "model_id": "501902b1e49b44fb9bfb5f717cc8bc41",
       "version_major": 2,
       "version_minor": 0
      },
      "text/plain": [
       "Uploading artifacts:   0%|          | 0/11 [00:00<?, ?it/s]"
      ]
     },
     "metadata": {},
     "output_type": "display_data"
    },
    {
     "output_type": "stream",
     "name": "stderr",
     "output_type": "stream",
     "text": [
      "Successfully registered model 'llm_workspace.default.hugging_face_sentence_transformer_model'.\n"
     ]
    },
    {
     "output_type": "display_data",
     "data": {
      "application/vnd.jupyter.widget-view+json": {
       "model_id": "e1b7b1cd737249a290894c6414df8437",
       "version_major": 2,
       "version_minor": 0
      },
      "text/plain": [
       "Uploading artifacts:   0%|          | 0/11 [00:00<?, ?it/s]"
      ]
     },
     "metadata": {},
     "output_type": "display_data"
    },
    {
     "output_type": "stream",
     "name": "stderr",
     "output_type": "stream",
     "text": [
      "Created version '1' of model 'llm_workspace.default.hugging_face_sentence_transformer_model'.\n"
     ]
    },
    {
     "output_type": "display_data",
     "data": {
      "application/vnd.jupyter.widget-view+json": {
       "model_id": "35ccac2b5e5b48f4a3b113271834126b",
       "version_major": 2,
       "version_minor": 0
      },
      "text/plain": [
       "Downloading artifacts:   0%|          | 0/11 [00:00<?, ?it/s]"
      ]
     },
     "metadata": {},
     "output_type": "display_data"
    },
    {
     "output_type": "stream",
     "name": "stderr",
     "output_type": "stream",
     "text": [
      "2024/10/23 09:23:07 INFO mlflow.tracking._tracking_service.client: 🏃 View run all-MiniLM-L6-v2-run at: https://ohio.cloud.databricks.com/ml/experiments/26fc5ff7060643a7a96d401413b2ab0e/runs/f61a5e46a12248a08af508203b2184a8.\n2024/10/23 09:23:07 INFO mlflow.tracking._tracking_service.client: 🧪 View experiment at: https://ohio.cloud.databricks.com/ml/experiments/26fc5ff7060643a7a96d401413b2ab0e.\n"
     ]
    }
   ],
   "source": [
    "# create the sentence transformer (can skip if model exist)\n",
    "\n",
    "import mlflow\n",
    "import mlflow.pyfunc\n",
    "import pandas as pd\n",
    "\n",
    "# Then import sentence_transformers\n",
    "from sentence_transformers import SentenceTransformer\n",
    "import numpy as np\n",
    "\n",
    "class SentenceTransformerModel(mlflow.pyfunc.PythonModel):\n",
    "\n",
    "    def load_context(self, context):\n",
    "        # Load the sentence transformer model\n",
    "        self.model = SentenceTransformer('sentence-transformers/all-MiniLM-L6-v2')  # Use your model name here\n",
    "\n",
    "    def predict(self, context, model_input):\n",
    "        def encode_text(text):\n",
    "            try:\n",
    "                return self.model.encode(text, show_progress_bar=False)\n",
    "            except Exception as e:\n",
    "                print(f\"Error encoding text: {text}. Error: {str(e)}\")\n",
    "                return np.zeros(384)  # Assuming embedding size is 384\n",
    "\n",
    "        # Apply the model to the input DataFrame\n",
    "        text_series = model_input.iloc[:, 0]  # Assuming the first column is the text\n",
    "        embeddings = text_series.apply(encode_text)\n",
    "        return pd.DataFrame(embeddings.tolist())\n",
    "\n",
    "# Create sample input and output\n",
    "sample_input = pd.DataFrame({'text': [\"This is a sample sentence\"]})\n",
    "model = SentenceTransformer('sentence-transformers/all-MiniLM-L6-v2')\n",
    "\n",
    "# Create sample output by encoding the text\n",
    "sample_output = pd.DataFrame([model.encode(\"This is a sample sentence\").tolist()])\n",
    "\n",
    "# Infer the model signature\n",
    "from mlflow.models.signature import infer_signature\n",
    "signature = infer_signature(sample_input, sample_output)\n",
    "\n",
    "run_name=\"all-MiniLM-L6-v2-run\"\n",
    "\n",
    "# Log the model to MLflow\n",
    "with mlflow.start_run(run_name=run_name) as run:\n",
    "    mlflow.pyfunc.log_model(\n",
    "        artifact_path=\"hugging_face_sentence_transformer_model\",\n",
    "        python_model=SentenceTransformerModel(),\n",
    "        input_example=sample_input,\n",
    "        signature=signature,\n",
    "        registered_model_name=\"hugging_face_sentence_transformer_model\"  # Specify the name in the registry\n",
    "    )"
   ]
  }
 ],
 "metadata": {
  "application/vnd.databricks.v1+notebook": {
   "dashboards": [],
   "environmentMetadata": {
    "base_environment": "/Workspace/Shared/genai-databricks-hackathon-2024/databricks-notebooks/databricks_base_environment.yml",
    "client": "1"
   },
   "language": "python",
   "notebookMetadata": {
    "pythonIndentUnit": 4
   },
   "notebookName": "code_regulation_embedding_model",
   "widgets": {}
  }
 },
 "nbformat": 4,
 "nbformat_minor": 0
}
